{
 "cells": [
  {
   "cell_type": "code",
   "execution_count": 1,
   "metadata": {},
   "outputs": [],
   "source": [
    "from scipy.integrate import solve_bvp\n",
    "import numpy as np\n",
    "import matplotlib.pyplot as plt"
   ]
  },
  {
   "cell_type": "code",
   "execution_count": 8,
   "metadata": {},
   "outputs": [],
   "source": [
    "#k为所求本征值\n",
    "s=1.\n",
    "def fun(x, y, p,s):\n",
    "    k= p[0]\n",
    "    return np.vstack((y[1], -k**2 * y[0]+s))\n",
    "\n",
    "def bc(ya, yb, p):\n",
    "    k = p[0]\n",
    "    return np.array([ya[0], yb[0]-1, ya[1]- 2])\n",
    "\n",
    "\n",
    "x = np.linspace(0, 1, 5)\n",
    "y = np.zeros((2, x.size))\n",
    "y[0, 2] = 2\n",
    "#y[0, 3] = -1"
   ]
  },
  {
   "cell_type": "code",
   "execution_count": 9,
   "metadata": {},
   "outputs": [
    {
     "data": {
      "text/plain": [
       "(2.2632737619490326, 0.750006914138794)"
      ]
     },
     "execution_count": 9,
     "metadata": {},
     "output_type": "execute_result"
    }
   ],
   "source": [
    "from time import time\n",
    "a=time()\n",
    "eigv= solve_bvp(lambda x,y,p:fun(x,y,p,s=s), lambda ya,yb,p:bc(ya,yb,p), x, y, p=[4])#k=6作为本征值初始猜测值\n",
    "b=time()\n",
    "eigv.p[0],b-a"
   ]
  },
  {
   "cell_type": "code",
   "execution_count": 49,
   "metadata": {},
   "outputs": [
    {
     "data": {
      "image/png": "[encoded data removed]",
      "text/plain": [
       "<matplotlib.figure.Figure at 0x9e1310>"
      ]
     },
     "metadata": {},
     "output_type": "display_data"
    }
   ],
   "source": [
    "x_plot=np.linspace(0,1,200)\n",
    "y_plot=eigv.sol(x_plot)[0]\n",
    "plt.plot(x_plot,y_plot)\n",
    "plt.show()"
   ]
  },
  {
   "cell_type": "code",
   "execution_count": 47,
   "metadata": {},
   "outputs": [
    {
     "data": {
      "text/plain": [
       "5"
      ]
     },
     "execution_count": 47,
     "metadata": {},
     "output_type": "execute_result"
    }
   ],
   "source": [
    "x.size"
   ]
  },
  {
   "cell_type": "code",
   "execution_count": 1,
   "metadata": {},
   "outputs": [
    {
     "ename": "IndentationError",
     "evalue": "unindent does not match any outer indentation level (calculator.py, line 104)",
     "output_type": "error",
     "traceback": [
      "Traceback \u001b[1;36m(most recent call last)\u001b[0m:\n",
      "  File \u001b[0;32m\"C:\\Users\\chengye\\Anaconda3\\lib\\site-packages\\IPython\\core\\interactiveshell.py\"\u001b[0m, line \u001b[0;32m2910\u001b[0m, in \u001b[0;35mrun_code\u001b[0m\n    exec(code_obj, self.user_global_ns, self.user_ns)\n",
      "\u001b[1;36m  File \u001b[1;32m\"<ipython-input-1-5f336f40a10f>\"\u001b[1;36m, line \u001b[1;32m1\u001b[1;36m, in \u001b[1;35m<module>\u001b[1;36m\u001b[0m\n\u001b[1;33m    import calculator\u001b[0m\n",
      "\u001b[1;36m  File \u001b[1;32m\"C:\\Users\\chengye\\calculator.py\"\u001b[1;36m, line \u001b[1;32m104\u001b[0m\n\u001b[1;33m    def bc(ya,yb,p):\u001b[0m\n\u001b[1;37m                    ^\u001b[0m\n\u001b[1;31mIndentationError\u001b[0m\u001b[1;31m:\u001b[0m unindent does not match any outer indentation level\n"
     ]
    }
   ],
   "source": [
    "import calculator\n",
    "ccz=calculator.Methods()"
   ]
  },
  {
   "cell_type": "code",
   "execution_count": null,
   "metadata": {},
   "outputs": [],
   "source": [
    "M_p=5.1\n",
    "M_0,v_max=1,9e5\n",
    "ccz.con.M_p=M_p\n",
    "ccz.con.set_M_p(M_p,0.3,M_0*v_max)\n",
    "ccz.find_eigv(50,1e-5)"
   ]
  },
  {
   "cell_type": "code",
   "execution_count": 4,
   "metadata": {},
   "outputs": [
    {
     "ename": "NameError",
     "evalue": "name 'calculator' is not defined",
     "output_type": "error",
     "traceback": [
      "\u001b[1;31m---------------------------------------------------------------------------\u001b[0m",
      "\u001b[1;31mNameError\u001b[0m                                 Traceback (most recent call last)",
      "\u001b[1;32m<ipython-input-4-999698039159>\u001b[0m in \u001b[0;36m<module>\u001b[1;34m()\u001b[0m\n\u001b[0;32m      1\u001b[0m \u001b[1;32mimport\u001b[0m \u001b[0mimp\u001b[0m\u001b[1;33m\u001b[0m\u001b[0m\n\u001b[1;32m----> 2\u001b[1;33m \u001b[0mimp\u001b[0m\u001b[1;33m.\u001b[0m\u001b[0mreload\u001b[0m\u001b[1;33m(\u001b[0m\u001b[0mcalculator\u001b[0m\u001b[1;33m)\u001b[0m\u001b[1;33m\u001b[0m\u001b[0m\n\u001b[0m",
      "\u001b[1;31mNameError\u001b[0m: name 'calculator' is not defined"
     ]
    }
   ],
   "source": [
    "import imp\n",
    "imp.reload(calculator)"
   ]
  },
  {
   "cell_type": "code",
   "execution_count": 2,
   "metadata": {},
   "outputs": [
    {
     "ename": "SyntaxError",
     "evalue": "positional argument follows keyword argument (<ipython-input-2-d526a11e31bc>, line 40)",
     "output_type": "error",
     "traceback": [
      "\u001b[1;36m  File \u001b[1;32m\"<ipython-input-2-d526a11e31bc>\"\u001b[1;36m, line \u001b[1;32m40\u001b[0m\n\u001b[1;33m    eigv=solve_bvp(lambda Z,r,p:cal_PTM(Z,r,others=others,p),lambda ya,yb,p:bc(ya,yb,p),r,Z,p=p_0)\u001b[0m\n\u001b[1;37m                                                         ^\u001b[0m\n\u001b[1;31mSyntaxError\u001b[0m\u001b[1;31m:\u001b[0m positional argument follows keyword argument\n"
     ]
    }
   ],
   "source": [
    "from const import Const\n",
    "import numpy as np\n",
    "from scipy.integrate import odeint,quad,solve_bvp\n",
    "import matplotlib.pyplot as plt\n",
    "from time import time\n",
    "class Methods(object):\n",
    "    con=Const()    #所有常数从Const库调用,M_p可以改\n",
    "    P=None\n",
    "    T=None\n",
    "    M=None\n",
    "    L=None\n",
    "    def find_eigv(cls,ST,L_s):\n",
    "        c_P,c_T,c_M=cls.con.cal_const()\n",
    "        g,alpha,beta,R_B,MeT0=cls.con.g_ad,cls.con.alpha,cls.con.beta,cls.con.R_B,cls.con.M_e*cls.con.T_0\n",
    "        others=g,alpha,beta,R_B,c_P,c_T,c_M,MeT0\n",
    "        #内外边界\n",
    "        R_in,R_out=cls.con.R_p,cls.con.R_out\n",
    "        r=np.linspace(1.,R_in/R_out,20)\n",
    "        Z=np.zeros((4,r.size))\n",
    "          \n",
    "        def cal_PTM(Z,r,others,p):\n",
    "                P,T,M,L=Z\n",
    "                g,alpha,beta,R_B,c_P,c_T,c_M,MeT0=others\n",
    "                st,l_s=p[0],p[1]\n",
    "            \n",
    "                dP=c_P*M*P/(T*r**2)\n",
    "                dT=min(c_T*1e24*abs(L)*P**(alpha+1)*T**(beta-4)/M,g)*(T*dP/P)\n",
    "                dM=c_M*r**2*P/T\n",
    "                if dT==g*(T*dP/P):\n",
    "                    dL=1e-24*MeT0*dM*st\n",
    "                else:\n",
    "                    dL=0\n",
    "                return np.vstack((dP,dT,dM,dL))\n",
    "            \n",
    "        def bc(ya,yb,p):\n",
    "                 st,l_s=p[0],p[1]\n",
    "                 return  np.array([ya[0]-1.,ya[1]-1.,ya[2]-cls.con.M_p,ya[3]-l_s,yb[2]-5.,yb[3]-1e-3])\n",
    "        p_0=[ST,L_s]\n",
    "        a=time()\n",
    "        eigv=solve_bvp(lambda Z,r,p:cal_PTM(Z,r,others=others,p),lambda ya,yb,p:bc(ya,yb,p),r,Z,p=p_0)\n",
    "        b=time()\n",
    "        return eigv.p[0],eigv.p[1],b-a"
   ]
  },
  {
   "cell_type": "code",
   "execution_count": null,
   "metadata": {},
   "outputs": [],
   "source": []
  }
 ],
 "metadata": {
  "kernelspec": {
   "display_name": "Python 3",
   "language": "python",
   "name": "python3"
  },
  "language_info": {
   "codemirror_mode": {
    "name": "ipython",
    "version": 3
   },
   "file_extension": ".py",
   "mimetype": "text/x-python",
   "name": "python",
   "nbconvert_exporter": "python",
   "pygments_lexer": "ipython3",
   "version": "3.7.5"
  }
 },
 "nbformat": 4,
 "nbformat_minor": 2
}
