{
 "nbformat": 4,
 "nbformat_minor": 2,
 "metadata": {
  "language_info": {
   "name": "python",
   "codemirror_mode": {
    "name": "ipython",
    "version": 3
   },
   "version": "3.7.4-final"
  },
  "orig_nbformat": 2,
  "file_extension": ".py",
  "mimetype": "text/x-python",
  "name": "python",
  "npconvert_exporter": "python",
  "pygments_lexer": "ipython3",
  "version": 3,
  "kernelspec": {
   "name": "python37464bitbasecondaf61c0d8dce2242d385362b80b8102780",
   "display_name": "Python 3.7.4 64-bit ('base': conda)"
  }
 },
 "cells": [
  {
   "cell_type": "code",
   "execution_count": 1,
   "metadata": {},
   "outputs": [],
   "source": [
    "import numpy as np \n",
    "import matplotlib.pyplot as plt \n",
    "from calculator import Methods,Calculator\n",
    "from const import Const\n",
    "from test1 import Test"
   ]
  },
  {
   "cell_type": "code",
   "execution_count": 2,
   "metadata": {},
   "outputs": [],
   "source": [
    "cal=Calculator()\n",
    "cal.read_excel('../Data/无磁场/Data-M_c=8.xlsx','Data-M_c=8')\n",
    "te=Test(0.3,8)"
   ]
  },
  {
   "cell_type": "code",
   "execution_count": 10,
   "metadata": {},
   "outputs": [
    {
     "data": {
      "text/plain": "\"filename='../Data/store-3.3e+3.csv'\\nf=open(filename,'r')\\nvalues=[]\\nfor line in f:\\n    values.append(line.split(','))\\nf.close()\""
     },
     "execution_count": 10,
     "metadata": {},
     "output_type": "execute_result"
    }
   ],
   "source": [
    "filename='store-all.csv'\n",
    "f=open(filename,'r')\n",
    "values=[]\n",
    "for line in f:\n",
    "    values.append(line.split(','))\n",
    "g_in=float(values[1][-1])\n",
    "f.close()\n",
    "\n",
    "\"\"\"filename='../Data/store-3.3e+3.csv'\n",
    "f=open(filename,'r')\n",
    "values=[]\n",
    "for line in f:\n",
    "    values.append(line.split(','))\n",
    "f.close()\"\"\""
   ]
  },
  {
   "cell_type": "code",
   "execution_count": 4,
   "metadata": {},
   "outputs": [
    {
     "data": {
      "text/plain": "67.43520380021779"
     },
     "execution_count": 4,
     "metadata": {},
     "output_type": "execute_result"
    }
   ],
   "source": [
    "g_in"
   ]
  },
  {
   "cell_type": "code",
   "execution_count": 5,
   "metadata": {},
   "outputs": [],
   "source": [
    "import matplotlib.pyplot as plt"
   ]
  },
  {
   "cell_type": "code",
   "execution_count": 11,
   "metadata": {},
   "outputs": [
    {
     "name": "stdout",
     "output_type": "stream",
     "text": "-9686.381605004639 77.98160305658047\n3.4747444482482265e-05 -2.4300144465805307e-06\n"
    }
   ],
   "source": [
    "order=23\n",
    "maxtime=30\n",
    "m=cal.M_p[order]\n",
    "L_s=cal.L_init[order]\n",
    "ST=cal.ST[order]\n",
    "te.con.set_M_p(m,2e+8)\n",
    "x_start=-1e+6\n",
    "x_step1,x_step2=0.5e+2,0.1e+2\n",
    "error=1e-4\n",
    "y_start=te.cal_ML_simple_B(ST,L_s,True,0.0,x_start)[-1]/(te.r[-1]*te.con.R_B)\n",
    "y_target=g_in\n",
    "y1=y_start\n",
    "x1=x_start\n",
    "i=1\n",
    "while abs(y1-y_target)>error:\n",
    "    if i>1:\n",
    "        x2=x1+x_step2\n",
    "    else:\n",
    "        x2=x1+x_step1\n",
    "    y2=te.cal_ML_simple_B(ST,L_s,True,0.0,x2)[-1]/(te.r[-1]*te.con.R_B)\n",
    "    grad=(y2-y1)/(x2-x1)\n",
    "    x1=(y_target-y2)/grad+x2 \n",
    "    y1=te.cal_ML_simple_B(ST,L_s,True,0.0,x1)[-1]/(te.r[-1]*te.con.R_B)\n",
    "    i+=1\n",
    "    if i>maxtime:\n",
    "        print('1 come out.')\n",
    "        break\n",
    "print(x1,y1)\n",
    "dgr=x1\n",
    "x_start=ST \n",
    "x_step=ST/40\n",
    "error=1e-5\n",
    "y_start=te.cal_ML_simple_B(x_start,L_s,True,0.0,dgr)[-2]\n",
    "y_target=0.0\n",
    "y1=y_start\n",
    "x1=x_start\n",
    "i=0\n",
    "while abs(y1-y_target)>error:\n",
    "    x2=x1+x_step\n",
    "    y2=te.cal_ML_simple_B(x2,L_s,True,0.0,dgr)[-2]\n",
    "    grad=(y2-y1)/(x2-x1)\n",
    "    x1=(y_target-y2)/grad+x2 \n",
    "    y1=te.cal_ML_simple_B(x1,L_s,True,0.0,dgr)[-2]\n",
    "    i+=1\n",
    "    if i>maxtime:\n",
    "        print('2 come out.')\n",
    "        break\n",
    "print(x1,y1)\n",
    "ST=x1"
   ]
  },
  {
   "cell_type": "code",
   "execution_count": 22,
   "metadata": {},
   "outputs": [
    {
     "name": "stdout",
     "output_type": "stream",
     "text": "(7.00000103447144, 2.4878819714921688e-06, 112972908424.58174)\n100.41538114795817\n"
    }
   ],
   "source": [
    "print(te.cal_ML_simple_B(ST,L_s,True,0.0,dgr))\n",
    "print(te.cal_ML_simple_B(ST,L_s,True,0.0,dgr)[-1]/(te.r[-1]*te.con.R_B))"
   ]
  },
  {
   "cell_type": "code",
   "execution_count": 12,
   "metadata": {},
   "outputs": [],
   "source": [
    "f=open('store-1e+6.csv','a')\n",
    "f.write('{0},{1},{2},{3},{4},{5},{6}\\n'.format(order,te.P[-1],te.T[-1],te.L[0],ST,m,dgr))\n",
    "f.close()"
   ]
  },
  {
   "cell_type": "code",
   "execution_count": 23,
   "metadata": {},
   "outputs": [
    {
     "name": "stdout",
     "output_type": "stream",
     "text": "(7.000000042162456, -1.9764935832000674e-05, 210880161716.00204)\n187.43973321171757\n"
    }
   ],
   "source": [
    "order=0\n",
    "m=cal.M_p[order]\n",
    "dgr=-2.8e+6\n",
    "L_s=cal.L_init[order]\n",
    "te.con.set_M_p(m,2e+8)\n",
    "ST=0.0783106229722543\n",
    "print(te.cal_ML_simple_B(ST,L_s,True,0.0,dgr))\n",
    "print(te.cal_ML_simple_B(ST,L_s,True,0.0,dgr)[-1]/(te.r[-1]*te.con.R_B))"
   ]
  },
  {
   "cell_type": "code",
   "execution_count": 18,
   "metadata": {},
   "outputs": [
    {
     "data": {
      "image/png": "[encoded data removed]",
      "image/svg+xml": "<?xml version=\"1.0\" encoding=\"utf-8\" standalone=\"no\"?>\n<!DOCTYPE svg PUBLIC \"-//W3C//DTD SVG 1.1//EN\"\n  \"http://www.w3.org/Graphics/SVG/1.1/DTD/svg11.dtd\">\n<!-- Created with matplotlib (https://matplotlib.org/) -->\n<svg height=\"248.518125pt\" version=\"1.1\" viewBox=\"0 0 386.845312 248.518125\" width=\"386.845312pt\" xmlns=\"http://www.w3.org/2000/svg\" xmlns:xlink=\"http://www.w3.org/1999/xlink\">\n <defs>\n  <style type=\"text/css\">\n*{stroke-linecap:butt;stroke-linejoin:round;}\n  </style>\n </defs>\n <g id=\"figure_1\">\n  <g id=\"patch_1\">\n   <path d=\"M 0 248.518125 \nL 386.845312 248.518125 \nL 386.845312 0 \nL 0 0 \nz\n\" style=\"fill:none;\"/>\n  </g>\n  <g id=\"axes_1\">\n   <g id=\"patch_2\">\n    <path d=\"M 44.845313 224.64 \nL 379.645313 224.64 \nL 379.645313 7.2 \nL 44.845313 7.2 \nz\n\" style=\"fill:#ffffff;\"/>\n   </g>\n   <g id=\"matplotlib.axis_1\">\n    <g id=\"xtick_1\">\n     <g id=\"line2d_1\">\n      <defs>\n       <path d=\"M 0 0 \nL 0 3.5 \n\" id=\"m2c74bb04bd\" style=\"stroke:#000000;stroke-width:0.8;\"/>\n      </defs>\n      <g>\n       <use style=\"stroke:#000000;stroke-width:0.8;\" x=\"71.131263\" xlink:href=\"#m2c74bb04bd\" y=\"224.64\"/>\n      </g>\n     </g>\n     <g id=\"text_1\">\n      <!-- −1800 -->\n      <defs>\n       <path d=\"M 10.59375 35.5 \nL 73.1875 35.5 \nL 73.1875 27.203125 \nL 10.59375 27.203125 \nz\n\" id=\"DejaVuSans-8722\"/>\n       <path d=\"M 12.40625 8.296875 \nL 28.515625 8.296875 \nL 28.515625 63.921875 \nL 10.984375 60.40625 \nL 10.984375 69.390625 \nL 28.421875 72.90625 \nL 38.28125 72.90625 \nL 38.28125 8.296875 \nL 54.390625 8.296875 \nL 54.390625 0 \nL 12.40625 0 \nz\n\" id=\"DejaVuSans-49\"/>\n       <path d=\"M 31.78125 34.625 \nQ 24.75 34.625 20.71875 30.859375 \nQ 16.703125 27.09375 16.703125 20.515625 \nQ 16.703125 13.921875 20.71875 10.15625 \nQ 24.75 6.390625 31.78125 6.390625 \nQ 38.8125 6.390625 42.859375 10.171875 \nQ 46.921875 13.96875 46.921875 20.515625 \nQ 46.921875 27.09375 42.890625 30.859375 \nQ 38.875 34.625 31.78125 34.625 \nz\nM 21.921875 38.8125 \nQ 15.578125 40.375 12.03125 44.71875 \nQ 8.5 49.078125 8.5 55.328125 \nQ 8.5 64.0625 14.71875 69.140625 \nQ 20.953125 74.21875 31.78125 74.21875 \nQ 42.671875 74.21875 48.875 69.140625 \nQ 55.078125 64.0625 55.078125 55.328125 \nQ 55.078125 49.078125 51.53125 44.71875 \nQ 48 40.375 41.703125 38.8125 \nQ 48.828125 37.15625 52.796875 32.3125 \nQ 56.78125 27.484375 56.78125 20.515625 \nQ 56.78125 9.90625 50.3125 4.234375 \nQ 43.84375 -1.421875 31.78125 -1.421875 \nQ 19.734375 -1.421875 13.25 4.234375 \nQ 6.78125 9.90625 6.78125 20.515625 \nQ 6.78125 27.484375 10.78125 32.3125 \nQ 14.796875 37.15625 21.921875 38.8125 \nz\nM 18.3125 54.390625 \nQ 18.3125 48.734375 21.84375 45.5625 \nQ 25.390625 42.390625 31.78125 42.390625 \nQ 38.140625 42.390625 41.71875 45.5625 \nQ 45.3125 48.734375 45.3125 54.390625 \nQ 45.3125 60.0625 41.71875 63.234375 \nQ 38.140625 66.40625 31.78125 66.40625 \nQ 25.390625 66.40625 21.84375 63.234375 \nQ 18.3125 60.0625 18.3125 54.390625 \nz\n\" id=\"DejaVuSans-56\"/>\n       <path d=\"M 31.78125 66.40625 \nQ 24.171875 66.40625 20.328125 58.90625 \nQ 16.5 51.421875 16.5 36.375 \nQ 16.5 21.390625 20.328125 13.890625 \nQ 24.171875 6.390625 31.78125 6.390625 \nQ 39.453125 6.390625 43.28125 13.890625 \nQ 47.125 21.390625 47.125 36.375 \nQ 47.125 51.421875 43.28125 58.90625 \nQ 39.453125 66.40625 31.78125 66.40625 \nz\nM 31.78125 74.21875 \nQ 44.046875 74.21875 50.515625 64.515625 \nQ 56.984375 54.828125 56.984375 36.375 \nQ 56.984375 17.96875 50.515625 8.265625 \nQ 44.046875 -1.421875 31.78125 -1.421875 \nQ 19.53125 -1.421875 13.0625 8.265625 \nQ 6.59375 17.96875 6.59375 36.375 \nQ 6.59375 54.828125 13.0625 64.515625 \nQ 19.53125 74.21875 31.78125 74.21875 \nz\n\" id=\"DejaVuSans-48\"/>\n      </defs>\n      <g transform=\"translate(54.216419 239.238437)scale(0.1 -0.1)\">\n       <use xlink:href=\"#DejaVuSans-8722\"/>\n       <use x=\"83.789062\" xlink:href=\"#DejaVuSans-49\"/>\n       <use x=\"147.412109\" xlink:href=\"#DejaVuSans-56\"/>\n       <use x=\"211.035156\" xlink:href=\"#DejaVuSans-48\"/>\n       <use x=\"274.658203\" xlink:href=\"#DejaVuSans-48\"/>\n      </g>\n     </g>\n    </g>\n    <g id=\"xtick_2\">\n     <g id=\"line2d_2\">\n      <g>\n       <use style=\"stroke:#000000;stroke-width:0.8;\" x=\"116.785808\" xlink:href=\"#m2c74bb04bd\" y=\"224.64\"/>\n      </g>\n     </g>\n     <g id=\"text_2\">\n      <!-- −1600 -->\n      <defs>\n       <path d=\"M 33.015625 40.375 \nQ 26.375 40.375 22.484375 35.828125 \nQ 18.609375 31.296875 18.609375 23.390625 \nQ 18.609375 15.53125 22.484375 10.953125 \nQ 26.375 6.390625 33.015625 6.390625 \nQ 39.65625 6.390625 43.53125 10.953125 \nQ 47.40625 15.53125 47.40625 23.390625 \nQ 47.40625 31.296875 43.53125 35.828125 \nQ 39.65625 40.375 33.015625 40.375 \nz\nM 52.59375 71.296875 \nL 52.59375 62.3125 \nQ 48.875 64.0625 45.09375 64.984375 \nQ 41.3125 65.921875 37.59375 65.921875 \nQ 27.828125 65.921875 22.671875 59.328125 \nQ 17.53125 52.734375 16.796875 39.40625 \nQ 19.671875 43.65625 24.015625 45.921875 \nQ 28.375 48.1875 33.59375 48.1875 \nQ 44.578125 48.1875 50.953125 41.515625 \nQ 57.328125 34.859375 57.328125 23.390625 \nQ 57.328125 12.15625 50.6875 5.359375 \nQ 44.046875 -1.421875 33.015625 -1.421875 \nQ 20.359375 -1.421875 13.671875 8.265625 \nQ 6.984375 17.96875 6.984375 36.375 \nQ 6.984375 53.65625 15.1875 63.9375 \nQ 23.390625 74.21875 37.203125 74.21875 \nQ 40.921875 74.21875 44.703125 73.484375 \nQ 48.484375 72.75 52.59375 71.296875 \nz\n\" id=\"DejaVuSans-54\"/>\n      </defs>\n      <g transform=\"translate(99.870965 239.238437)scale(0.1 -0.1)\">\n       <use xlink:href=\"#DejaVuSans-8722\"/>\n       <use x=\"83.789062\" xlink:href=\"#DejaVuSans-49\"/>\n       <use x=\"147.412109\" xlink:href=\"#DejaVuSans-54\"/>\n       <use x=\"211.035156\" xlink:href=\"#DejaVuSans-48\"/>\n       <use x=\"274.658203\" xlink:href=\"#DejaVuSans-48\"/>\n      </g>\n     </g>\n    </g>\n    <g id=\"xtick_3\">\n     <g id=\"line2d_3\">\n      <g>\n       <use style=\"stroke:#000000;stroke-width:0.8;\" x=\"162.440354\" xlink:href=\"#m2c74bb04bd\" y=\"224.64\"/>\n      </g>\n     </g>\n     <g id=\"text_3\">\n      <!-- −1400 -->\n      <defs>\n       <path d=\"M 37.796875 64.3125 \nL 12.890625 25.390625 \nL 37.796875 25.390625 \nz\nM 35.203125 72.90625 \nL 47.609375 72.90625 \nL 47.609375 25.390625 \nL 58.015625 25.390625 \nL 58.015625 17.1875 \nL 47.609375 17.1875 \nL 47.609375 0 \nL 37.796875 0 \nL 37.796875 17.1875 \nL 4.890625 17.1875 \nL 4.890625 26.703125 \nz\n\" id=\"DejaVuSans-52\"/>\n      </defs>\n      <g transform=\"translate(145.52551 239.238437)scale(0.1 -0.1)\">\n       <use xlink:href=\"#DejaVuSans-8722\"/>\n       <use x=\"83.789062\" xlink:href=\"#DejaVuSans-49\"/>\n       <use x=\"147.412109\" xlink:href=\"#DejaVuSans-52\"/>\n       <use x=\"211.035156\" xlink:href=\"#DejaVuSans-48\"/>\n       <use x=\"274.658203\" xlink:href=\"#DejaVuSans-48\"/>\n      </g>\n     </g>\n    </g>\n    <g id=\"xtick_4\">\n     <g id=\"line2d_4\">\n      <g>\n       <use style=\"stroke:#000000;stroke-width:0.8;\" x=\"208.094899\" xlink:href=\"#m2c74bb04bd\" y=\"224.64\"/>\n      </g>\n     </g>\n     <g id=\"text_4\">\n      <!-- −1200 -->\n      <defs>\n       <path d=\"M 19.1875 8.296875 \nL 53.609375 8.296875 \nL 53.609375 0 \nL 7.328125 0 \nL 7.328125 8.296875 \nQ 12.9375 14.109375 22.625 23.890625 \nQ 32.328125 33.6875 34.8125 36.53125 \nQ 39.546875 41.84375 41.421875 45.53125 \nQ 43.3125 49.21875 43.3125 52.78125 \nQ 43.3125 58.59375 39.234375 62.25 \nQ 35.15625 65.921875 28.609375 65.921875 \nQ 23.96875 65.921875 18.8125 64.3125 \nQ 13.671875 62.703125 7.8125 59.421875 \nL 7.8125 69.390625 \nQ 13.765625 71.78125 18.9375 73 \nQ 24.125 74.21875 28.421875 74.21875 \nQ 39.75 74.21875 46.484375 68.546875 \nQ 53.21875 62.890625 53.21875 53.421875 \nQ 53.21875 48.921875 51.53125 44.890625 \nQ 49.859375 40.875 45.40625 35.40625 \nQ 44.1875 33.984375 37.640625 27.21875 \nQ 31.109375 20.453125 19.1875 8.296875 \nz\n\" id=\"DejaVuSans-50\"/>\n      </defs>\n      <g transform=\"translate(191.180056 239.238437)scale(0.1 -0.1)\">\n       <use xlink:href=\"#DejaVuSans-8722\"/>\n       <use x=\"83.789062\" xlink:href=\"#DejaVuSans-49\"/>\n       <use x=\"147.412109\" xlink:href=\"#DejaVuSans-50\"/>\n       <use x=\"211.035156\" xlink:href=\"#DejaVuSans-48\"/>\n       <use x=\"274.658203\" xlink:href=\"#DejaVuSans-48\"/>\n      </g>\n     </g>\n    </g>\n    <g id=\"xtick_5\">\n     <g id=\"line2d_5\">\n      <g>\n       <use style=\"stroke:#000000;stroke-width:0.8;\" x=\"253.749445\" xlink:href=\"#m2c74bb04bd\" y=\"224.64\"/>\n      </g>\n     </g>\n     <g id=\"text_5\">\n      <!-- −1000 -->\n      <g transform=\"translate(236.834601 239.238437)scale(0.1 -0.1)\">\n       <use xlink:href=\"#DejaVuSans-8722\"/>\n       <use x=\"83.789062\" xlink:href=\"#DejaVuSans-49\"/>\n       <use x=\"147.412109\" xlink:href=\"#DejaVuSans-48\"/>\n       <use x=\"211.035156\" xlink:href=\"#DejaVuSans-48\"/>\n       <use x=\"274.658203\" xlink:href=\"#DejaVuSans-48\"/>\n      </g>\n     </g>\n    </g>\n    <g id=\"xtick_6\">\n     <g id=\"line2d_6\">\n      <g>\n       <use style=\"stroke:#000000;stroke-width:0.8;\" x=\"299.40399\" xlink:href=\"#m2c74bb04bd\" y=\"224.64\"/>\n      </g>\n     </g>\n     <g id=\"text_6\">\n      <!-- −800 -->\n      <g transform=\"translate(285.670396 239.238437)scale(0.1 -0.1)\">\n       <use xlink:href=\"#DejaVuSans-8722\"/>\n       <use x=\"83.789062\" xlink:href=\"#DejaVuSans-56\"/>\n       <use x=\"147.412109\" xlink:href=\"#DejaVuSans-48\"/>\n       <use x=\"211.035156\" xlink:href=\"#DejaVuSans-48\"/>\n      </g>\n     </g>\n    </g>\n    <g id=\"xtick_7\">\n     <g id=\"line2d_7\">\n      <g>\n       <use style=\"stroke:#000000;stroke-width:0.8;\" x=\"345.058536\" xlink:href=\"#m2c74bb04bd\" y=\"224.64\"/>\n      </g>\n     </g>\n     <g id=\"text_7\">\n      <!-- −600 -->\n      <g transform=\"translate(331.324942 239.238437)scale(0.1 -0.1)\">\n       <use xlink:href=\"#DejaVuSans-8722\"/>\n       <use x=\"83.789062\" xlink:href=\"#DejaVuSans-54\"/>\n       <use x=\"147.412109\" xlink:href=\"#DejaVuSans-48\"/>\n       <use x=\"211.035156\" xlink:href=\"#DejaVuSans-48\"/>\n      </g>\n     </g>\n    </g>\n   </g>\n   <g id=\"matplotlib.axis_2\">\n    <g id=\"ytick_1\">\n     <g id=\"line2d_8\">\n      <defs>\n       <path d=\"M 0 0 \nL -3.5 0 \n\" id=\"m6d2ba12137\" style=\"stroke:#000000;stroke-width:0.8;\"/>\n      </defs>\n      <g>\n       <use style=\"stroke:#000000;stroke-width:0.8;\" x=\"44.845313\" xlink:href=\"#m6d2ba12137\" y=\"202.896\"/>\n      </g>\n     </g>\n     <g id=\"text_8\">\n      <!-- −0.04 -->\n      <defs>\n       <path d=\"M 10.6875 12.40625 \nL 21 12.40625 \nL 21 0 \nL 10.6875 0 \nz\n\" id=\"DejaVuSans-46\"/>\n      </defs>\n      <g transform=\"translate(7.2 206.695219)scale(0.1 -0.1)\">\n       <use xlink:href=\"#DejaVuSans-8722\"/>\n       <use x=\"83.789062\" xlink:href=\"#DejaVuSans-48\"/>\n       <use x=\"147.412109\" xlink:href=\"#DejaVuSans-46\"/>\n       <use x=\"179.199219\" xlink:href=\"#DejaVuSans-48\"/>\n       <use x=\"242.822266\" xlink:href=\"#DejaVuSans-52\"/>\n      </g>\n     </g>\n    </g>\n    <g id=\"ytick_2\">\n     <g id=\"line2d_9\">\n      <g>\n       <use style=\"stroke:#000000;stroke-width:0.8;\" x=\"44.845313\" xlink:href=\"#m6d2ba12137\" y=\"159.408\"/>\n      </g>\n     </g>\n     <g id=\"text_9\">\n      <!-- −0.02 -->\n      <g transform=\"translate(7.2 163.207219)scale(0.1 -0.1)\">\n       <use xlink:href=\"#DejaVuSans-8722\"/>\n       <use x=\"83.789062\" xlink:href=\"#DejaVuSans-48\"/>\n       <use x=\"147.412109\" xlink:href=\"#DejaVuSans-46\"/>\n       <use x=\"179.199219\" xlink:href=\"#DejaVuSans-48\"/>\n       <use x=\"242.822266\" xlink:href=\"#DejaVuSans-50\"/>\n      </g>\n     </g>\n    </g>\n    <g id=\"ytick_3\">\n     <g id=\"line2d_10\">\n      <g>\n       <use style=\"stroke:#000000;stroke-width:0.8;\" x=\"44.845313\" xlink:href=\"#m6d2ba12137\" y=\"115.92\"/>\n      </g>\n     </g>\n     <g id=\"text_10\">\n      <!-- 0.00 -->\n      <g transform=\"translate(15.579688 119.719219)scale(0.1 -0.1)\">\n       <use xlink:href=\"#DejaVuSans-48\"/>\n       <use x=\"63.623047\" xlink:href=\"#DejaVuSans-46\"/>\n       <use x=\"95.410156\" xlink:href=\"#DejaVuSans-48\"/>\n       <use x=\"159.033203\" xlink:href=\"#DejaVuSans-48\"/>\n      </g>\n     </g>\n    </g>\n    <g id=\"ytick_4\">\n     <g id=\"line2d_11\">\n      <g>\n       <use style=\"stroke:#000000;stroke-width:0.8;\" x=\"44.845313\" xlink:href=\"#m6d2ba12137\" y=\"72.432\"/>\n      </g>\n     </g>\n     <g id=\"text_11\">\n      <!-- 0.02 -->\n      <g transform=\"translate(15.579688 76.231219)scale(0.1 -0.1)\">\n       <use xlink:href=\"#DejaVuSans-48\"/>\n       <use x=\"63.623047\" xlink:href=\"#DejaVuSans-46\"/>\n       <use x=\"95.410156\" xlink:href=\"#DejaVuSans-48\"/>\n       <use x=\"159.033203\" xlink:href=\"#DejaVuSans-50\"/>\n      </g>\n     </g>\n    </g>\n    <g id=\"ytick_5\">\n     <g id=\"line2d_12\">\n      <g>\n       <use style=\"stroke:#000000;stroke-width:0.8;\" x=\"44.845313\" xlink:href=\"#m6d2ba12137\" y=\"28.944\"/>\n      </g>\n     </g>\n     <g id=\"text_12\">\n      <!-- 0.04 -->\n      <g transform=\"translate(15.579688 32.743219)scale(0.1 -0.1)\">\n       <use xlink:href=\"#DejaVuSans-48\"/>\n       <use x=\"63.623047\" xlink:href=\"#DejaVuSans-46\"/>\n       <use x=\"95.410156\" xlink:href=\"#DejaVuSans-48\"/>\n       <use x=\"159.033203\" xlink:href=\"#DejaVuSans-52\"/>\n      </g>\n     </g>\n    </g>\n   </g>\n   <g id=\"line2d_13\">\n    <path clip-path=\"url(#pb2e6935048)\" d=\"M 60.063494 115.92 \nL 63.522172 115.92 \nL 66.98085 115.92 \nL 70.439527 115.92 \nL 73.898205 115.92 \nL 77.356883 115.92 \nL 80.81556 115.92 \nL 84.274238 115.92 \nL 87.732916 115.92 \nL 91.191593 115.92 \nL 94.650271 115.92 \nL 98.108949 115.92 \nL 101.567627 115.92 \nL 105.026304 115.92 \nL 108.484982 115.92 \nL 111.94366 115.92 \nL 115.402337 115.92 \nL 118.861015 115.92 \nL 122.319693 115.92 \nL 125.77837 115.92 \nL 129.237048 115.92 \nL 132.695726 115.92 \nL 136.154403 115.92 \nL 139.613081 115.92 \nL 143.071759 115.92 \nL 146.530436 115.92 \nL 149.989114 115.92 \nL 153.447792 115.92 \nL 156.90647 115.92 \nL 160.365147 115.92 \nL 163.823825 115.92 \nL 167.282503 115.92 \nL 170.74118 115.92 \nL 174.199858 115.92 \nL 177.658536 115.92 \nL 181.117213 115.92 \nL 184.575891 115.92 \nL 188.034569 115.92 \nL 191.493246 115.92 \nL 194.951924 115.92 \nL 198.410602 115.92 \nL 201.869279 115.92 \nL 205.327957 115.92 \nL 208.786635 115.92 \nL 212.245313 115.92 \nL 215.70399 115.92 \nL 219.162668 115.92 \nL 222.621346 115.92 \nL 226.080023 115.92 \nL 229.538701 115.92 \nL 232.997379 115.92 \nL 236.456056 115.92 \nL 239.914734 115.92 \nL 243.373412 115.92 \nL 246.832089 115.92 \nL 250.290767 115.92 \nL 253.749445 115.92 \nL 257.208122 115.92 \nL 260.6668 115.92 \nL 264.125478 115.92 \nL 267.584155 115.92 \nL 271.042833 115.92 \nL 274.501511 115.92 \nL 277.960189 115.92 \nL 281.418866 115.92 \nL 284.877544 115.92 \nL 288.336222 115.92 \nL 291.794899 115.92 \nL 295.253577 115.92 \nL 298.712255 115.92 \nL 302.170932 115.92 \nL 305.62961 115.92 \nL 309.088288 115.92 \nL 312.546965 115.92 \nL 316.005643 115.92 \nL 319.464321 115.92 \nL 322.922998 115.92 \nL 326.381676 115.92 \nL 329.840354 115.92 \nL 333.299032 115.92 \nL 336.757709 115.92 \nL 340.216387 115.92 \nL 343.675065 115.92 \nL 347.133742 115.92 \nL 350.59242 115.92 \nL 354.051098 115.92 \nL 357.509775 115.92 \nL 360.968453 115.92 \nL 364.427131 115.92 \n\" style=\"fill:none;stroke:#1f77b4;stroke-linecap:square;stroke-width:1.5;\"/>\n   </g>\n   <g id=\"line2d_14\">\n    <path clip-path=\"url(#pb2e6935048)\" d=\"M 60.063494 115.92 \nL 63.522172 115.92 \nL 66.98085 115.92 \nL 70.439527 115.92 \nL 73.898205 115.92 \nL 77.356883 115.92 \nL 80.81556 115.92 \nL 84.274238 115.92 \nL 87.732916 115.92 \nL 91.191593 115.92 \nL 94.650271 115.92 \nL 98.108949 115.92 \nL 101.567627 115.92 \nL 105.026304 115.92 \nL 108.484982 115.92 \nL 111.94366 115.92 \nL 115.402337 115.92 \nL 118.861015 115.92 \nL 122.319693 115.92 \nL 125.77837 115.92 \nL 129.237048 115.92 \nL 132.695726 115.92 \nL 136.154403 115.92 \nL 139.613081 115.92 \nL 143.071759 115.92 \nL 146.530436 115.92 \nL 149.989114 115.92 \nL 153.447792 115.92 \nL 156.90647 115.92 \nL 160.365147 115.92 \nL 163.823825 115.92 \nL 167.282503 115.92 \nL 170.74118 115.92 \nL 174.199858 115.92 \nL 177.658536 115.92 \nL 181.117213 115.92 \nL 184.575891 115.92 \nL 188.034569 115.92 \nL 191.493246 115.92 \nL 194.951924 115.92 \nL 198.410602 115.92 \nL 201.869279 115.92 \nL 205.327957 115.92 \nL 208.786635 115.92 \nL 212.245313 115.92 \nL 215.70399 115.92 \nL 219.162668 115.92 \nL 222.621346 115.92 \nL 226.080023 115.92 \nL 229.538701 115.92 \nL 232.997379 115.92 \nL 236.456056 115.92 \nL 239.914734 115.92 \nL 243.373412 115.92 \nL 246.832089 115.92 \nL 250.290767 115.92 \nL 253.749445 115.92 \nL 257.208122 115.92 \nL 260.6668 115.92 \nL 264.125478 115.92 \nL 267.584155 115.92 \nL 271.042833 115.92 \nL 274.501511 115.92 \nL 277.960189 115.92 \nL 281.418866 115.92 \nL 284.877544 115.92 \nL 288.336222 115.92 \nL 291.794899 115.92 \nL 295.253577 115.92 \nL 298.712255 115.92 \nL 302.170932 115.92 \nL 305.62961 115.92 \nL 309.088288 115.92 \nL 312.546965 115.92 \nL 316.005643 115.92 \nL 319.464321 115.92 \nL 322.922998 115.92 \nL 326.381676 115.92 \nL 329.840354 115.92 \nL 333.299032 115.92 \nL 336.757709 115.92 \nL 340.216387 115.92 \nL 343.675065 115.92 \nL 347.133742 115.92 \nL 350.59242 115.92 \nL 354.051098 115.92 \nL 357.509775 115.92 \nL 360.968453 115.92 \nL 364.427131 115.92 \n\" style=\"fill:none;stroke:#ff0000;stroke-dasharray:5.55,2.4;stroke-dashoffset:0;stroke-width:1.5;\"/>\n   </g>\n   <g id=\"patch_3\">\n    <path d=\"M 44.845313 224.64 \nL 44.845313 7.2 \n\" style=\"fill:none;stroke:#000000;stroke-linecap:square;stroke-linejoin:miter;stroke-width:0.8;\"/>\n   </g>\n   <g id=\"patch_4\">\n    <path d=\"M 379.645313 224.64 \nL 379.645313 7.2 \n\" style=\"fill:none;stroke:#000000;stroke-linecap:square;stroke-linejoin:miter;stroke-width:0.8;\"/>\n   </g>\n   <g id=\"patch_5\">\n    <path d=\"M 44.845312 224.64 \nL 379.645313 224.64 \n\" style=\"fill:none;stroke:#000000;stroke-linecap:square;stroke-linejoin:miter;stroke-width:0.8;\"/>\n   </g>\n   <g id=\"patch_6\">\n    <path d=\"M 44.845312 7.2 \nL 379.645313 7.2 \n\" style=\"fill:none;stroke:#000000;stroke-linecap:square;stroke-linejoin:miter;stroke-width:0.8;\"/>\n   </g>\n  </g>\n </g>\n <defs>\n  <clipPath id=\"pb2e6935048\">\n   <rect height=\"217.44\" width=\"334.8\" x=\"44.845313\" y=\"7.2\"/>\n  </clipPath>\n </defs>\n</svg>\n",
      "text/plain": "<Figure size 600x400 with 1 Axes>"
     },
     "metadata": {
      "needs_background": "light"
     },
     "output_type": "display_data"
    }
   ],
   "source": [
    "fig=plt.figure(dpi=100)\n",
    "grad=(y[-1]-y[0])/(x[-1]-x[0])\n",
    "b=y[0]-grad*x[0]\n",
    "z=grad*x+b\n",
    "plt.plot(x[10:99],y[10:99])\n",
    "plt.plot(x[10:99],z[10:99],'r--')\n",
    "plt.ylim([min(y[10:99]),max(y[10:99])])\n",
    "plt.show()"
   ]
  },
  {
   "cell_type": "code",
   "execution_count": 25,
   "metadata": {},
   "outputs": [
    {
     "data": {
      "text/plain": "(4.9999998538336, 0.011847424209150744, 312175502.2792291)"
     },
     "execution_count": 25,
     "metadata": {},
     "output_type": "execute_result"
    }
   ],
   "source": [
    "order=2\n",
    "m=cal.M_p[order]\n",
    "L_s=cal.L_init[order]\n",
    "ST=float(values[order+1][-1])\n",
    "L_s=cal.L_init[order]\n",
    "te.con.set_M_p(m,8e+6)\n",
    "te.cal_ML_simple_B(ST,L_s,True,0.0,-1e+3)"
   ]
  },
  {
   "cell_type": "code",
   "execution_count": 13,
   "metadata": {},
   "outputs": [],
   "source": [
    "f=open('test_data.csv','w')\n",
    "f.write('P,T,M,G,L\\n')\n",
    "for i in range(len(te.values)):\n",
    "    f.write('{0},{1},{2},{3},{4}\\n'.format(te.values[i][0],te.values[i][1],te.values[i][2],te.values[i][3],te.values[i][4]))\n",
    "f.write('\\n\\ndP,dT,dM,dG,ddG,dL\\n')\n",
    "for i in range(len(te.dValues)):\n",
    "    f.write('{0},{1},{2},{3},{4},{5}\\n'.format(te.dValues[i][0],te.dValues[i][1],te.dValues[i][2],te.dValues[i][3],te.dValues[i][4],te.dValues[i][5]))\n",
    "f.close()"
   ]
  },
  {
   "cell_type": "code",
   "execution_count": 15,
   "metadata": {},
   "outputs": [
    {
     "name": "stdout",
     "output_type": "stream",
     "text": "M_v=8.0e+06\n-0.00024238443848700886\n-5.6862371207222484e-05\n2.4606326839955207e-05\n9.430240593302774e-05\n-6.276415322060969e-05\n1.1531721548236479e-05\n-8.271443394913813e-05\n7.7374859584652e-05\n-5.524156271499497e-05\n-3.284927378783154e-05\n5.448593043073935e-05\n1.1315228568009594e-05\n-6.402972904645532e-05\n-1.8582431413641416e-05\n7.035190176276664e-05\n-1.8599357819043712e-05\n-5.196096866974038e-05\n8.043778231599068e-06\n2.427966941979812e-05\n-1.2054915546106434e-05\n-3.271590425709412e-05\n-2.277681508331157e-05\n9.808854259740155e-05\n-5.201773871472016e-05\n2.7825915774824447e-05\n7.289793468481017e-05\n6.753507988326826e-05\n-1.6295097209814138e-05\n-8.384289027886526e-05\n8.184147238381753e-05\n1.432006812431886e-05\n3.83393875152557e-05\n-9.344729697417049e-05\n9.953003750821313e-05\n-7.860932532294685e-05\n8.49520341956126e-05\n-8.703723228808491e-05\n6.980266805610294e-05\n-6.250100557167286e-05\n-7.892584676664864e-05\n2.4366251971522047e-05\n6.530660214105935e-05\n5.3938793477751506e-05\n-1.7489427110272857e-05\n4.832426443548456e-05\n6.945538108838519e-05\n5.2501153200747164e-05\n4.3509572553723785e-06\n-6.981686313338367e-05\n-9.534651976405434e-06\n3.0560843512879125e-05\n5.0342443529639326e-05\n5.0786586003796416e-05\n4.4011461066315385e-05\n1.3746486625072947e-05\n-1.1716674029473234e-05\n-4.861057953408146e-05\n5.4001145187037875e-05\n1.0473588367197403e-05\n-3.453370207375829e-05\n6.438566616209871e-05\n1.4491876541882637e-05\n-1.936698133447011e-05\n8.60098756870712e-05\n-8.212319808720801e-05\n3.394431883401317e-05\n1.9703404151905773e-05\n1.4319560615875387e-05\n1.493345340256632e-05\n3.0910972935387516e-05\n-7.65801177648514e-05\n9.505933879475938e-05\n1.4964067774831877e-05\n-5.507892555392524e-05\n2.4943983284705647e-05\n-1.4572616929487553e-05\n9.30005422648851e-05\n8.653483009864876e-05\n9.397793277640155e-05\n-1.256983207395708e-05\n-9.776225948176896e-05\n-3.959238884070071e-05\n3.815068211233605e-05\n3.7927576778968436e-06\n-1.1908104543340708e-05\n-8.972767755213024e-06\n1.170092361476964e-05\n-7.735368218594624e-05\n-1.669673359298851e-05\n6.339000044355493e-05\n3.30935924527456e-05\n2.3817183231759822e-05\n3.453710533957545e-05\n6.44660018950566e-05\n-1.3675405162983344e-05\n-7.346966787606158e-05\n1.8052779323588907e-05\n1.899769916076724e-07\n2.311620006468975e-06\n2.4449132089468225e-05\n6.723643977431856e-05\n-9.133776539670818e-07\n-4.692332105891289e-05\n-7.395050849938554e-05\n-8.100973299216625e-05\n-6.456072526064567e-05\n-3.312764288860301e-05\n2.234748622375552e-05\n9.836859636226924e-05\n-7.286597843156025e-05\n4.281899428522666e-05\n-9.071187305884163e-05\n6.98976153125074e-05\n-2.1882226804714744e-05\n-9.440538897126545e-05\n-1.3990039870357199e-05\n8.598478160907076e-05\n7.09685421768514e-05\n7.493607199475331e-05\n9.650984317409721e-05\n-9.643506920786749e-08\n-8.054578376873091e-05\n-1.9125805371771054e-06\n9.37351426857861e-05\n-6.900839544288304e-05\n6.266436851078659e-05\n-6.725238239910572e-05\n-3.951362344870569e-05\n6.527098216950578e-06\n-7.389927395852827e-05\n5.145624731286037e-06\n-4.286762777687761e-05\n6.95430291988812e-05\n5.646208772313189e-05\n5.598890964329979e-05\n7.206189484376853e-05\n-4.1437935468093684e-05\n6.4851582404490404e-06\n-8.082289561323064e-05\n-3.537555661035322e-06\n8.80773047935296e-05\n4.611199905048616e-05\n1.4845662897578285e-05\n-5.909756425415483e-07\n-3.8221320179492035e-06\n5.7523277301671505e-06\n2.9483312526168426e-05\n-9.016995161034366e-05\n-4.169480273931957e-05\n1.788244490264629e-05\n-6.564198287228786e-05\n1.7318377700989082e-05\n-4.523190587016508e-05\n6.102549232040941e-05\n1.9339583848533917e-05\n-1.2624853431397742e-05\n-3.496441319104926e-05\n-4.744560124809278e-05\n-5.090983084144601e-05\n-4.688845425717802e-05\n-3.178925569753341e-05\n-9.671660660094498e-06\n2.1501052538942106e-05\n5.96755077746855e-05\n-6.099916564997849e-05\n-7.92397853051005e-06\n5.355287581752105e-05\n-5.0277237690701804e-05\n2.339977466425929e-05\n-6.954444420480266e-05\n1.650876521521686e-05\n-6.658722007717947e-05\n2.865264280379901e-05\n-4.6179008957824424e-05\n5.9231688203771615e-05\n-7.451299337343873e-06\n-7.348941537658439e-05\n4.2678565035786376e-05\n-1.6743265182635886e-05\n-7.587971968991275e-05\n4.9185130505537134e-05\n-5.742377215213479e-06\n-5.83376421611527e-05\n7.231419579460663e-05\n1.7051716995959698e-05\n-3.6763776221190175e-05\n-8.896633900630892e-05\n4.041907921448467e-05\n-1.6280862619184877e-05\n-7.584123857719022e-05\n5.463558440795685e-05\n-9.161721252901739e-06\n-8.109595575250816e-05\n4.652954589950617e-05\n-2.690448906185125e-05\n8.909302403650732e-05\n9.412078842665345e-06\n-8.080370561976049e-05\n3.454389426372703e-05\n-7.209507196472703e-05\n"
    }
   ],
   "source": [
    "for i in values:\n",
    "    print(i[-2])"
   ]
  },
  {
   "cell_type": "code",
   "execution_count": 5,
   "metadata": {},
   "outputs": [
    {
     "data": {
      "text/plain": "nan"
     },
     "execution_count": 5,
     "metadata": {},
     "output_type": "execute_result"
    }
   ],
   "source": [
    "ST"
   ]
  },
  {
   "cell_type": "code",
   "execution_count": null,
   "metadata": {},
   "outputs": [],
   "source": []
  }
 ]
}