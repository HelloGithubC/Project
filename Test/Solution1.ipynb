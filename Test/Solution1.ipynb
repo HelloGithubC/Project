{
 "nbformat": 4,
 "nbformat_minor": 2,
 "metadata": {
  "language_info": {
   "name": "python",
   "codemirror_mode": {
    "name": "ipython",
    "version": 3
   },
   "version": "3.7.5"
  },
  "orig_nbformat": 2,
  "file_extension": ".py",
  "mimetype": "text/x-python",
  "name": "python",
  "npconvert_exporter": "python",
  "pygments_lexer": "ipython3",
  "version": 3
 },
 "cells": [
  {
   "cell_type": "code",
   "execution_count": 1,
   "metadata": {},
   "outputs": [],
   "source": [
    "import numpy as np \n",
    "import matplotlib.pyplot as plt \n",
    "from calculator import Methods,Calculator\n",
    "from const import Const\n",
    "from test1 import Test"
   ]
  },
  {
   "cell_type": "code",
   "execution_count": 2,
   "metadata": {},
   "outputs": [],
   "source": [
    "cal=Calculator()\n",
    "cal.read_excel('Data2.xlsx')"
   ]
  },
  {
   "cell_type": "code",
   "execution_count": 3,
   "metadata": {},
   "outputs": [],
   "source": [
    "te=Test()"
   ]
  },
  {
   "cell_type": "code",
   "execution_count": 16,
   "metadata": {},
   "outputs": [
    {
     "name": "stdout",
     "output_type": "stream",
     "text": "121 is done.\n122 is done.\n123 is done.\n124 is done.\n125 is done.\n126 is done.\n127 is done.\n128 is done.\n129 is done.\n130 is done.\n131 is done.\n132 is done.\n133 is done.\n134 is done.\n135 is done.\n136 is done.\n137 is done.\n138 is done.\n139 is done.\n140 is done.\n141 is done.\n142 is done.\n143 is done.\n144 is done.\n145 is done.\n146 is done.\n147 is done.\n148 is done.\n149 is done.\n150 is done.\n151 is done.\n152 is done.\n153 is done.\n154 is done.\n155 is done.\n156 is done.\n157 is done.\n158 is done.\n/home/xiaoliang/miniconda3/envs/vscode/lib/python3.7/site-packages/scipy/integrate/odepack.py:247: ODEintWarning: Excess work done on this call (perhaps wrong Dfun type). Run with full_output = 1 to get quantitative information.\n  warnings.warn(warning_msg, ODEintWarning)\n159 is done.\n160 is done.\n161 is done.\n162 is done.\n163 is done.\n164 is done.\n165 is done.\n166 is done.\n167 is done.\n168 is done.\n169 is done.\n170 is done.\n171 is done.\n172 is done.\n173 is done.\n174 is done.\n175 is done.\n176 is done.\n177 is done.\n178 is done.\n179 is done.\n180 is done.\n181 is done.\n182 is done.\n183 is done.\n184 is done.\n185 is done.\n186 is done.\n187 is done.\n188 is done.\n189 is done.\n190 is done.\n191 is done.\n192 is done.\n193 is done.\n194 is done.\n195 is done.\n196 is done.\n197 is done.\n198 is done.\n199 is done.\n"
    }
   ],
   "source": [
    "start,end=121,199\n",
    "result=np.ones((end+1-start,5))\n",
    "for order in range(start,end+1,1):\n",
    "    m=cal.M_p[order]\n",
    "    ST=cal.ST[order]\n",
    "    L_s=cal.L_init[order]\n",
    "    te.con.set_M_p(m)\n",
    "    ST,L_c=te.find_L_two(0.0,L_s,0.0,ST,8e-6)\n",
    "    result[order-start]=[int(order),te.P[-1],te.T[-1],L_s,ST]\n",
    "    print(\"{0} is done.\".format(order))"
   ]
  },
  {
   "cell_type": "code",
   "execution_count": 5,
   "metadata": {},
   "outputs": [
    {
     "name": "stdout",
     "output_type": "stream",
     "text": "[[3.90000000e+01 4.47435968e+07 3.19904754e+01 1.61986280e+00\n  4.32795598e-07]\n [4.00000000e+01 4.56071260e+07 3.20267736e+01 1.57875185e+00\n  4.11480869e-07]\n [4.10000000e+01 4.64541656e+07 3.20628861e+01 1.54076162e+00\n  3.91980897e-07]\n [4.20000000e+01 4.72851682e+07 3.20987580e+01 1.50557203e+00\n  3.74096293e-07]\n [4.30000000e+01 4.81003735e+07 3.21343700e+01 1.47292502e+00\n  3.57642720e-07]\n [4.40000000e+01 4.88998865e+07 3.21697289e+01 1.44260779e+00\n  3.42479274e-07]\n [4.50000000e+01 4.96839354e+07 3.22048201e+01 1.41441730e+00\n  3.28477505e-07]]\n"
    }
   ],
   "source": [
    "print(result)"
   ]
  },
  {
   "cell_type": "code",
   "execution_count": 17,
   "metadata": {},
   "outputs": [],
   "source": [
    "with open('store.txt','a') as f:\n",
    "    for i in range(len(result)):\n",
    "        f.write(\"{0}:{1},{2},{3},{4}\\n\".format(int(result[i,0]),result[i,1],result[i,2],result[i,3],result[i,4]))"
   ]
  },
  {
   "cell_type": "code",
   "execution_count": 7,
   "metadata": {},
   "outputs": [
    {
     "ename": "IndexError",
     "evalue": "tuple index out of range",
     "output_type": "error",
     "traceback": [
      "\u001b[0;31m---------------------------------------------------------------------------\u001b[0m",
      "\u001b[0;31mIndexError\u001b[0m                                Traceback (most recent call last)",
      "\u001b[0;32m<ipython-input-7-45cc1d438e68>\u001b[0m in \u001b[0;36m<module>\u001b[0;34m\u001b[0m\n\u001b[1;32m      1\u001b[0m \u001b[0ma\u001b[0m\u001b[0;34m=\u001b[0m\u001b[0;34m[\u001b[0m\u001b[0;36m1\u001b[0m\u001b[0;34m,\u001b[0m\u001b[0;36m2\u001b[0m\u001b[0;34m,\u001b[0m\u001b[0;36m3\u001b[0m\u001b[0;34m,\u001b[0m\u001b[0;36m4\u001b[0m\u001b[0;34m,\u001b[0m\u001b[0;36m5\u001b[0m\u001b[0;34m]\u001b[0m\u001b[0;34m\u001b[0m\u001b[0;34m\u001b[0m\u001b[0m\n\u001b[0;32m----> 2\u001b[0;31m \u001b[0mprint\u001b[0m\u001b[0;34m(\u001b[0m\u001b[0;34m\"{0}:{1},{2},{3},{4}\"\u001b[0m\u001b[0;34m.\u001b[0m\u001b[0mformat\u001b[0m\u001b[0;34m(\u001b[0m\u001b[0ma\u001b[0m\u001b[0;34m)\u001b[0m\u001b[0;34m)\u001b[0m\u001b[0;34m\u001b[0m\u001b[0;34m\u001b[0m\u001b[0m\n\u001b[0m",
      "\u001b[0;31mIndexError\u001b[0m: tuple index out of range"
     ]
    }
   ],
   "source": [
    "a=[1,2,3,4,5]\n",
    "print(\"{0}:{1},{2},{3},{4}\".format(a))"
   ]
  }
 ]
}