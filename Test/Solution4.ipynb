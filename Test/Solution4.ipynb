{
 "nbformat": 4,
 "nbformat_minor": 2,
 "metadata": {
  "language_info": {
   "name": "python",
   "codemirror_mode": {
    "name": "ipython",
    "version": 3
   },
   "version": "3.7.4-final"
  },
  "orig_nbformat": 2,
  "file_extension": ".py",
  "mimetype": "text/x-python",
  "name": "python",
  "npconvert_exporter": "python",
  "pygments_lexer": "ipython3",
  "version": 3,
  "kernelspec": {
   "name": "python37464bitbb5b44a43f22429badd1dc1dc57ae0c3",
   "display_name": "Python 3.7.4 64-bit"
  }
 },
 "cells": [
  {
   "cell_type": "code",
   "execution_count": 1,
   "metadata": {},
   "outputs": [],
   "source": [
    "import numpy as np \n",
    "import matplotlib.pyplot as plt \n",
    "from calculator import Methods,Calculator\n",
    "from const import Const\n",
    "from test1 import Test"
   ]
  },
  {
   "cell_type": "code",
   "execution_count": 2,
   "metadata": {},
   "outputs": [],
   "source": [
    "te=Test(0.3,10)"
   ]
  },
  {
   "cell_type": "code",
   "execution_count": 47,
   "metadata": {},
   "outputs": [
    {
     "name": "stderr",
     "output_type": "stream",
     "text": "/home/xiaoliang/miniconda3/lib/python3.7/site-packages/scipy/integrate/odepack.py:247: ODEintWarning: Excess work done on this call (perhaps wrong Dfun type). Run with full_output = 1 to get quantitative information.\n  warnings.warn(warning_msg, ODEintWarning)\n1.9085833333333333e-05 0.000724766870639576\n"
    }
   ],
   "source": [
    "# 备用：二分法\n",
    "# 只用于求ST，且必须指定L_s\n",
    "#L_s=3.3850541876914186\n",
    "maxtime=80\n",
    "left=1.908e-5\n",
    "right=1.910e-5\n",
    "ST=(left+right)/2\n",
    "error=1e-9\n",
    "L_in=te.cal_ML_simple(ST,L_s)[1]\n",
    "i=0\n",
    "while abs(L_in)>error:\n",
    "    if L_in>0:\n",
    "        left=ST \n",
    "    else:\n",
    "        right=ST \n",
    "    ST=(left+right)/2\n",
    "    L_in=te.cal_ML_simple(ST,L_s)[1]\n",
    "    if i>maxtime:\n",
    "        break \n",
    "    else:\n",
    "        i+=1\n",
    "print(ST,L_in)"
   ]
  },
  {
   "cell_type": "code",
   "execution_count": 48,
   "metadata": {},
   "outputs": [
    {
     "name": "stdout",
     "output_type": "stream",
     "text": "100 has been done.\n101 has been done.\n102 has been done.\n103 has been done.\n104 has been done.\n105 has been done.\n106 has been done.\n107 has been done.\n108 has been done.\n109 has been done.\n110 has been done.\n111 has been done.\n112 has been done.\n113 has been done.\n114 has been done.\n115 has been done.\n116 has been done.\n117 has been done.\n118 has been done.\n119 has been done.\n120 has been done.\n121 has been done.\n122 has been done.\n123 has been done.\n124 has been done.\n125 has been done.\n126 has been done.\n127 has been done.\n128 has been done.\n129 has been done.\n130 has been done.\n131 has been done.\n132 has been done.\n133 has been done.\n134 has been done.\n135 has been done.\n136 has been done.\n137 has been done.\n138 has been done.\n139 has been done.\n140 has been done.\n141 has been done.\n142 has been done.\n143 has been done.\n144 has been done.\n145 has been done.\n146 has been done.\n147 has been done.\n2 come out.\n148 has been done.\n149 has been done.\n150 has been done.\n151 has been done.\n152 has been done.\n153 has been done.\n154 has been done.\n155 has been done.\n156 has been done.\n157 has been done.\n158 has been done.\n159 has been done.\n160 has been done.\n161 has been done.\n162 has been done.\n163 has been done.\n164 has been done.\n165 has been done.\n166 has been done.\n167 has been done.\n168 has been done.\n169 has been done.\n170 has been done.\n171 has been done.\n172 has been done.\n173 has been done.\n174 has been done.\n175 has been done.\n176 has been done.\n177 has been done.\n178 has been done.\n179 has been done.\n180 has been done.\n181 has been done.\n182 has been done.\n183 has been done.\n184 has been done.\n185 has been done.\n186 has been done.\n187 has been done.\n188 has been done.\n189 has been done.\n190 has been done.\n191 has been done.\n192 has been done.\n193 has been done.\n194 has been done.\n195 has been done.\n196 has been done.\n197 has been done.\n198 has been done.\n199 has been done.\n"
    }
   ],
   "source": [
    "M_p=np.linspace(11.05,2.5*te.con.M_c,200)\n",
    "result=np.ones((len(M_p),4))\n",
    "maxtime=40\n",
    "# 先根据M_c求出合适的L_s，再根据L_c=0求出合适的ST\n",
    "start=100\n",
    "end=200\n",
    "# 不同的总质量需要不同的初始参数，以免出问题\n",
    "for order in range(start,end):\n",
    "    m=M_p[order]\n",
    "    te.con.set_M_p(m)\n",
    "    x_start=50\n",
    "    x_step=2\n",
    "    y_target=te.con.M_c\n",
    "    error=1e-8\n",
    "    ST=0.0\n",
    "    x1=x_start\n",
    "    y1=te.cal_ML_simple(ST,x1)[0]\n",
    "    i=0\n",
    "    while abs(y1-y_target)>error:\n",
    "        x2=x1+x_step \n",
    "        y2=te.cal_ML_simple(ST,x2)[0]\n",
    "        grad=(y2-y1)/(x2-x1)\n",
    "        if grad==0:\n",
    "            print(\"1:Error: grad==0\")\n",
    "        x1=(y_target-y2)/grad+x2\n",
    "        x1=abs(x1)\n",
    "        y1=te.cal_ML_simple(ST,x1)[0]\n",
    "        if i>maxtime:\n",
    "            print(\"1 come out.\")\n",
    "            break \n",
    "        else:\n",
    "            i+=1\n",
    "    L_s=x1 \n",
    "    i=0\n",
    "    x_start=1e-5\n",
    "    x_step=1e-9\n",
    "    y_target=0.0\n",
    "    error=1e-9\n",
    "    x1=x_start\n",
    "    y1=te.cal_ML_simple(x1,L_s)[1]\n",
    "    i=0\n",
    "    while abs(y1-y_target)>error:\n",
    "        x2=x1+x_step \n",
    "        y2=te.cal_ML_simple(x2,L_s)[1]\n",
    "        grad=(y2-y1)/(x2-x1)\n",
    "        if grad==0:\n",
    "            print(\"2:Error: grad==0\")\n",
    "        x1=(y_target-y2)/grad+x2\n",
    "        y1=te.cal_ML_simple(x1,L_s)[1]\n",
    "        if i>maxtime:\n",
    "            print(\"2 come out.\")\n",
    "            break \n",
    "        else:\n",
    "            i+=1\n",
    "    ST=x1\n",
    "    result[order]=[te.P[-1],te.T[-1],L_s,ST]\n",
    "    print(\"{0} has been done.\".format(order))\n",
    "#print(te.cal_ML_simple(ST,L_s))"
   ]
  },
  {
   "cell_type": "code",
   "execution_count": 7,
   "metadata": {},
   "outputs": [
    {
     "data": {
      "text/plain": "(0.09602444006717746, 128483.50496675808)"
     },
     "execution_count": 7,
     "metadata": {},
     "output_type": "execute_result"
    }
   ],
   "source": [
    "ST,L_s"
   ]
  },
  {
   "cell_type": "code",
   "execution_count": 49,
   "metadata": {},
   "outputs": [],
   "source": [
    "filename=\"Data-M_c={0}.csv\".format(te.con.M_c)\n",
    "f=open(filename,'a')\n",
    "#f.write('order,P,T,L_s,ST,M,a=0.3,M_c={0}\\n'.format(te.con.M_c))\n",
    "for order in range(start,end):\n",
    "    f.write('{0},{1},{2},{3},{4},{5}\\n'.format(order,result[order][0],result[order][1],result[order][2],result[order][3],M_p[order]))\n",
    "f.close()"
   ]
  },
  {
   "cell_type": "code",
   "execution_count": 43,
   "metadata": {},
   "outputs": [],
   "source": [
    "filename=\"Data-M_c={0}.csv\".format(te.con.M_c)\n",
    "f=open(filename,'r')\n",
    "L_s=np.ones(200)\n",
    "ST=np.ones(200)\n",
    "order=0\n",
    "for line in f:\n",
    "    x=line.split(',')\n",
    "    if x[0]=='order':\n",
    "        continue\n",
    "    for i in range(4):\n",
    "        x[i]=float(x[i])\n",
    "    L_s[order],ST[order]=x[3:5]\n",
    "    order+=1\n",
    "f.close()"
   ]
  },
  {
   "cell_type": "code",
   "execution_count": 45,
   "metadata": {},
   "outputs": [
    {
     "name": "stdout",
     "output_type": "stream",
     "text": "(10.000000646464258, -0.013978198354433813)\n"
    }
   ],
   "source": [
    "order=99\n",
    "te.con.set_M_p(M_p[order])\n",
    "print(te.cal_ML_simple(ST[order],L_s[order]))"
   ]
  },
  {
   "cell_type": "code",
   "execution_count": 42,
   "metadata": {},
   "outputs": [
    {
     "data": {
      "text/plain": "281.6927996775967"
     },
     "execution_count": 42,
     "metadata": {},
     "output_type": "execute_result"
    }
   ],
   "source": [
    "L_s[order]"
   ]
  },
  {
   "cell_type": "code",
   "execution_count": 20,
   "metadata": {},
   "outputs": [
    {
     "name": "stdout",
     "output_type": "stream",
     "text": "(6.90924451192505e-310, 6.9092445116887e-310)\n"
    }
   ],
   "source": [
    "te.con.set_M_p(M_p[start])\n",
    "print(te.cal_ML_simple(ST,0.0008))"
   ]
  },
  {
   "cell_type": "code",
   "execution_count": 21,
   "metadata": {},
   "outputs": [
    {
     "ename": "IndexError",
     "evalue": "invalid index to scalar variable.",
     "output_type": "error",
     "traceback": [
      "\u001b[0;31m---------------------------------------------------------------------------\u001b[0m",
      "\u001b[0;31mIndexError\u001b[0m                                Traceback (most recent call last)",
      "\u001b[0;32m<ipython-input-21-0072300a7ea0>\u001b[0m in \u001b[0;36m<module>\u001b[0;34m\u001b[0m\n\u001b[1;32m      1\u001b[0m \u001b[0morder\u001b[0m\u001b[0;34m=\u001b[0m\u001b[0;36m89\u001b[0m\u001b[0;34m\u001b[0m\u001b[0;34m\u001b[0m\u001b[0m\n\u001b[1;32m      2\u001b[0m \u001b[0mte\u001b[0m\u001b[0;34m.\u001b[0m\u001b[0mcon\u001b[0m\u001b[0;34m.\u001b[0m\u001b[0mset_M_p\u001b[0m\u001b[0;34m(\u001b[0m\u001b[0mM_p\u001b[0m\u001b[0;34m[\u001b[0m\u001b[0morder\u001b[0m\u001b[0;34m]\u001b[0m\u001b[0;34m)\u001b[0m\u001b[0;34m\u001b[0m\u001b[0;34m\u001b[0m\u001b[0m\n\u001b[0;32m----> 3\u001b[0;31m \u001b[0mte\u001b[0m\u001b[0;34m.\u001b[0m\u001b[0mcal_ML_simple\u001b[0m\u001b[0;34m(\u001b[0m\u001b[0mST\u001b[0m\u001b[0;34m[\u001b[0m\u001b[0morder\u001b[0m\u001b[0;34m]\u001b[0m\u001b[0;34m,\u001b[0m\u001b[0mL_s\u001b[0m\u001b[0;34m[\u001b[0m\u001b[0morder\u001b[0m\u001b[0;34m]\u001b[0m\u001b[0;34m)\u001b[0m\u001b[0;34m\u001b[0m\u001b[0;34m\u001b[0m\u001b[0m\n\u001b[0m",
      "\u001b[0;31mIndexError\u001b[0m: invalid index to scalar variable."
     ]
    }
   ],
   "source": [
    "order=89\n",
    "te.con.set_M_p(M_p[order])\n",
    "te.cal_ML_simple(ST[order],L_s[order])"
   ]
  },
  {
   "cell_type": "code",
   "execution_count": 27,
   "metadata": {},
   "outputs": [
    {
     "data": {
      "text/plain": "0.044321608040201355"
     },
     "execution_count": 27,
     "metadata": {},
     "output_type": "execute_result"
    }
   ],
   "source": [
    "M_p[1]-M_p[0]"
   ]
  },
  {
   "cell_type": "code",
   "execution_count": 11,
   "metadata": {},
   "outputs": [
    {
     "data": {
      "text/plain": "110184.49346729537"
     },
     "execution_count": 11,
     "metadata": {},
     "output_type": "execute_result"
    }
   ],
   "source": [
    "L_s[order]"
   ]
  },
  {
   "cell_type": "code",
   "execution_count": 1,
   "metadata": {},
   "outputs": [
    {
     "data": {
      "text/plain": "6.18"
     },
     "execution_count": 1,
     "metadata": {},
     "output_type": "execute_result"
    }
   ],
   "source": [
    "5.15/5*6"
   ]
  },
  {
   "cell_type": "code",
   "execution_count": null,
   "metadata": {},
   "outputs": [],
   "source": []
  }
 ]
}