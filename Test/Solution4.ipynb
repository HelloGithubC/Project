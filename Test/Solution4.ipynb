{
 "nbformat": 4,
 "nbformat_minor": 2,
 "metadata": {
  "language_info": {
   "name": "python",
   "codemirror_mode": {
    "name": "ipython",
    "version": 3
   },
   "version": "3.7.4-final"
  },
  "orig_nbformat": 2,
  "file_extension": ".py",
  "mimetype": "text/x-python",
  "name": "python",
  "npconvert_exporter": "python",
  "pygments_lexer": "ipython3",
  "version": 3,
  "kernelspec": {
   "name": "python37464bitbb5b44a43f22429badd1dc1dc57ae0c3",
   "display_name": "Python 3.7.4 64-bit"
  }
 },
 "cells": [
  {
   "cell_type": "code",
   "execution_count": 1,
   "metadata": {},
   "outputs": [],
   "source": [
    "import numpy as np \n",
    "import matplotlib.pyplot as plt \n",
    "from calculator import Methods,Calculator\n",
    "from const import Const\n",
    "from test1 import Test"
   ]
  },
  {
   "cell_type": "code",
   "execution_count": 2,
   "metadata": {},
   "outputs": [],
   "source": [
    "te=Test(0.3,5)"
   ]
  },
  {
   "cell_type": "code",
   "execution_count": 105,
   "metadata": {},
   "outputs": [
    {
     "name": "stdout",
     "output_type": "stream",
     "text": "1.0961523056030275e-07 6.363680771573343e-10\n"
    }
   ],
   "source": [
    "# 备用：二分法\n",
    "# 只用于求ST，且必须指定L_s\n",
    "#L_s=1.3587789625469142\n",
    "maxtime=80\n",
    "left=1.08e-7\n",
    "right=1.10e-7\n",
    "ST=(left+right)/2\n",
    "error=1e-9\n",
    "L_in=te.cal_ML_simple(ST,L_s)[1]\n",
    "i=0\n",
    "while abs(L_in)>error:\n",
    "    if L_in>0:\n",
    "        left=ST \n",
    "    else:\n",
    "        right=ST \n",
    "    ST=(left+right)/2\n",
    "    L_in=te.cal_ML_simple(ST,L_s)[1]\n",
    "    if i>maxtime:\n",
    "        break \n",
    "    else:\n",
    "        i+=1\n",
    "print(ST,L_in)"
   ]
  },
  {
   "cell_type": "code",
   "execution_count": 115,
   "metadata": {},
   "outputs": [
    {
     "name": "stdout",
     "output_type": "stream",
     "text": "170 has been done.\n171 has been done.\n172 has been done.\n173 has been done.\n174 has been done.\n175 has been done.\n176 has been done.\n177 has been done.\n178 has been done.\n179 has been done.\n180 has been done.\n181 has been done.\n182 has been done.\n183 has been done.\n184 has been done.\n185 has been done.\n186 has been done.\n187 has been done.\n188 has been done.\n189 has been done.\n190 has been done.\n191 has been done.\n192 has been done.\n193 has been done.\n194 has been done.\n195 has been done.\n196 has been done.\n197 has been done.\n198 has been done.\n199 has been done.\n"
    }
   ],
   "source": [
    "M_p=np.linspace(5.15,2.5*te.con.M_c,200)\n",
    "result=np.ones((len(M_p),4))\n",
    "maxtime=40\n",
    "# 先根据M_c求出合适的L_s，再根据L_c=0求出合适的ST\n",
    "start=170\n",
    "end=200\n",
    "# 不同的总质量需要不同的初始参数，以免出问题\n",
    "for order in range(start,end):\n",
    "    m=M_p[order]\n",
    "    te.con.set_M_p(m)\n",
    "    x_start=2\n",
    "    x_step=1e-4\n",
    "    y_target=te.con.M_c\n",
    "    error=1e-8\n",
    "    ST=0.0\n",
    "    x1=x_start\n",
    "    y1=te.cal_ML_simple(ST,x1)[0]\n",
    "    i=0\n",
    "    while abs(y1-y_target)>error:\n",
    "        x2=x1+x_step \n",
    "        y2=te.cal_ML_simple(ST,x2)[0]\n",
    "        grad=(y2-y1)/(x2-x1)\n",
    "        if grad==0:\n",
    "            print(\"1:Error: grad==0\")\n",
    "        x1=(y_target-y2)/grad+x2\n",
    "        x1=abs(x1)\n",
    "        y1=te.cal_ML_simple(ST,x1)[0]\n",
    "        if i>maxtime:\n",
    "            print(\"1 come out.\")\n",
    "            break \n",
    "        else:\n",
    "            i+=1\n",
    "    L_s=x1 \n",
    "    i=0\n",
    "    x_start=1.0e-7 \n",
    "    x_step=1e-9\n",
    "    y_target=0.0\n",
    "    error=1e-9\n",
    "    x1=x_start\n",
    "    y1=te.cal_ML_simple(x1,L_s)[1]\n",
    "    i=0\n",
    "    while abs(y1-y_target)>error:\n",
    "        x2=x1+x_step \n",
    "        y2=te.cal_ML_simple(x2,L_s)[1]\n",
    "        grad=(y2-y1)/(x2-x1)\n",
    "        if grad==0:\n",
    "            print(\"2:Error: grad==0\")\n",
    "        x1=(y_target-y2)/grad+x2\n",
    "        y1=te.cal_ML_simple(x1,L_s)[1]\n",
    "        if i>maxtime:\n",
    "            print(\"2 come out.\")\n",
    "            break \n",
    "        else:\n",
    "            i+=1\n",
    "    ST=x1\n",
    "    result[order]=[te.P[-1],te.T[-1],L_s,ST]\n",
    "    print(\"{0} has been done.\".format(order))\n",
    "#print(te.cal_ML_simple(ST,L_s))"
   ]
  },
  {
   "cell_type": "code",
   "execution_count": 104,
   "metadata": {},
   "outputs": [
    {
     "data": {
      "text/plain": "(8.003996698384366e-07, 1.1183618405121485)"
     },
     "execution_count": 104,
     "metadata": {},
     "output_type": "execute_result"
    }
   ],
   "source": [
    "ST,L_s"
   ]
  },
  {
   "cell_type": "code",
   "execution_count": 116,
   "metadata": {},
   "outputs": [],
   "source": [
    "filename=\"Data-M_c={0}.csv\".format(te.con.M_c)\n",
    "f=open(filename,'a')\n",
    "#f.write('order,P,T,L_s,ST,a=0.3,M_c={0}\\n'.format(te.con.M_c))\n",
    "for order in range(start,end):\n",
    "    f.write('{0},{1},{2},{3},{4}\\n'.format(order,result[order][0],result[order][1],result[order][2],result[order][3]))\n",
    "f.close()"
   ]
  },
  {
   "cell_type": "code",
   "execution_count": 93,
   "metadata": {},
   "outputs": [],
   "source": [
    "filename=\"Data-M_c={0}.csv\".format(te.con.M_c)\n",
    "f=open(filename,'r')\n",
    "L_s=np.ones(200)\n",
    "ST=np.ones(200)\n",
    "order=0\n",
    "for line in f:\n",
    "    x=line.split(',')\n",
    "    if x[0]=='order':\n",
    "        continue\n",
    "    for i in range(4):\n",
    "        x[i]=float(x[i])\n",
    "    L_s[order],ST[order]=x[3:5]\n",
    "    order+=1\n",
    "f.close()"
   ]
  },
  {
   "cell_type": "code",
   "execution_count": 100,
   "metadata": {},
   "outputs": [
    {
     "name": "stdout",
     "output_type": "stream",
     "text": "(6.083270706237208, 2.0)\n"
    }
   ],
   "source": [
    "order=109\n",
    "te.con.set_M_p(M_p[order])\n",
    "print(te.cal_ML_simple(ST[order],L_s[order]))"
   ]
  },
  {
   "cell_type": "code",
   "execution_count": 98,
   "metadata": {},
   "outputs": [
    {
     "data": {
      "text/plain": "1.1183618405121485"
     },
     "execution_count": 98,
     "metadata": {},
     "output_type": "execute_result"
    }
   ],
   "source": [
    "L_s[order]"
   ]
  },
  {
   "cell_type": "code",
   "execution_count": 73,
   "metadata": {},
   "outputs": [
    {
     "name": "stdout",
     "output_type": "stream",
     "text": "(5.000000188968252, -0.027818283711596836)\n"
    }
   ],
   "source": [
    "te.con.set_M_p(M_p[start])\n",
    "print(te.cal_ML_simple(ST,L_s))"
   ]
  },
  {
   "cell_type": "code",
   "execution_count": 19,
   "metadata": {},
   "outputs": [
    {
     "data": {
      "text/plain": "(4.982995084088591, 100.0)"
     },
     "execution_count": 19,
     "metadata": {},
     "output_type": "execute_result"
    }
   ],
   "source": [
    "order=3\n",
    "te.con.set_M_p(M_p[order])\n",
    "te.cal_ML_simple(0.0,100)"
   ]
  },
  {
   "cell_type": "code",
   "execution_count": 117,
   "metadata": {},
   "outputs": [
    {
     "data": {
      "text/plain": "0.03693467336683387"
     },
     "execution_count": 117,
     "metadata": {},
     "output_type": "execute_result"
    }
   ],
   "source": [
    "M_p[1]-M_p[0]"
   ]
  },
  {
   "cell_type": "code",
   "execution_count": null,
   "metadata": {},
   "outputs": [],
   "source": []
  }
 ]
}