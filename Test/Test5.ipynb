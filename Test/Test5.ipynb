{
 "nbformat": 4,
 "nbformat_minor": 2,
 "metadata": {
  "language_info": {
   "name": "python",
   "codemirror_mode": {
    "name": "ipython",
    "version": 3
   },
   "version": "3.7.4-final"
  },
  "orig_nbformat": 2,
  "file_extension": ".py",
  "mimetype": "text/x-python",
  "name": "python",
  "npconvert_exporter": "python",
  "pygments_lexer": "ipython3",
  "version": 3,
  "kernelspec": {
   "name": "python37464bitbasecondaf61c0d8dce2242d385362b80b8102780",
   "display_name": "Python 3.7.4 64-bit ('base': conda)"
  }
 },
 "cells": [
  {
   "cell_type": "code",
   "execution_count": 1,
   "metadata": {},
   "outputs": [],
   "source": [
    "import numpy as np \n",
    "import matplotlib.pyplot as plt \n",
    "from calculator import Methods,Calculator\n",
    "from const import Const\n",
    "from test1 import Test"
   ]
  },
  {
   "cell_type": "code",
   "execution_count": 2,
   "metadata": {},
   "outputs": [],
   "source": [
    "cal=Calculator()\n",
    "cal.read_excel('Data2.xlsx')\n",
    "te=Test()"
   ]
  },
  {
   "cell_type": "code",
   "execution_count": 31,
   "metadata": {},
   "outputs": [],
   "source": [
    "f=open('store-ST-dgr.csv')\n",
    "L_s=np.ones(200)\n",
    "ST=np.ones(200)\n",
    "m=np.ones(200)\n",
    "dgr=np.ones(200)\n",
    "order=0\n",
    "for line in f:\n",
    "    x=line.split(',')\n",
    "    if x[0]=='order':\n",
    "        continue\n",
    "    for i in range(len(x)):\n",
    "        x[i]=float(x[i])\n",
    "    L_s[order],ST[order],m[order],dgr[order]=x[3:7]\n",
    "    order+=1\n",
    "f.close()"
   ]
  },
  {
   "cell_type": "code",
   "execution_count": 32,
   "metadata": {},
   "outputs": [
    {
     "name": "stdout",
     "output_type": "stream",
     "text": "(4.999999973366074, -0.00028968093641035253, 52299672313.08908)\n52.00370002775117\n"
    }
   ],
   "source": [
    "order=0\n",
    "te.con.set_M_p(m[order],2e+8)\n",
    "print(te.cal_ML_simple_B(ST[order],L_s[order],True,0.0,dgr[order]))\n",
    "print(te.cal_ML_simple_B(ST[order],L_s[order],True,0.0,dgr[order])[-1]/(te.r[-1]*te.con.R_B))"
   ]
  },
  {
   "cell_type": "code",
   "execution_count": null,
   "metadata": {},
   "outputs": [],
   "source": [
    "156.00707907731467"
   ]
  }
 ]
}