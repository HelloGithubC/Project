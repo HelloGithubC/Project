{
 "nbformat": 4,
 "nbformat_minor": 2,
 "metadata": {
  "language_info": {
   "name": "python",
   "codemirror_mode": {
    "name": "ipython",
    "version": 3
   },
   "version": "3.7.4-final"
  },
  "orig_nbformat": 2,
  "file_extension": ".py",
  "mimetype": "text/x-python",
  "name": "python",
  "npconvert_exporter": "python",
  "pygments_lexer": "ipython3",
  "version": 3,
  "kernelspec": {
   "name": "python37464bitbb5b44a43f22429badd1dc1dc57ae0c3",
   "display_name": "Python 3.7.4 64-bit"
  }
 },
 "cells": [
  {
   "cell_type": "code",
   "execution_count": 1,
   "metadata": {},
   "outputs": [],
   "source": [
    "import numpy as np \n",
    "import matplotlib.pyplot as plt \n",
    "from calculator import Methods,Calculator\n",
    "from const import Const\n",
    "from test1 import Test"
   ]
  },
  {
   "cell_type": "code",
   "execution_count": 2,
   "metadata": {},
   "outputs": [],
   "source": [
    "cal=Calculator()\n",
    "cal.read_excel('../Data/无磁场/Data-M_c=4.xlsx','Data-M_c=4')\n",
    "te=Test()"
   ]
  },
  {
   "cell_type": "code",
   "execution_count": 6,
   "metadata": {},
   "outputs": [],
   "source": [
    "#f=open('../Data/固定g_in/进一步寻找关系/store-2e+8-1.4e+6.csv')\n",
    "f=open('store-ST-dgr.csv','r')\n",
    "L_s=np.ones(200)\n",
    "ST=np.ones(200)\n",
    "m=np.ones(200)\n",
    "dgr=np.ones(200)\n",
    "order=0\n",
    "for line in f:\n",
    "    x=line.split(',')\n",
    "    if x[0]=='order':\n",
    "        continue\n",
    "    for i in range(7):\n",
    "        x[i]=float(x[i])\n",
    "    L_s[order],ST[order],m[order],dgr[order]=x[3:7]\n",
    "    order+=1\n",
    "f.close()"
   ]
  },
  {
   "cell_type": "code",
   "execution_count": 6,
   "metadata": {},
   "outputs": [
    {
     "data": {
      "text/plain": "[199.0,\n 75857614.97,\n 34.80663339,\n 1.639803254,\n 1.02e-07,\n 12.0,\n -590.135712,\n '',\n '0.000707973',\n '-0.002192491',\n '-0.007726817',\n '5.51441171\\n']"
     },
     "execution_count": 6,
     "metadata": {},
     "output_type": "execute_result"
    }
   ],
   "source": [
    "x"
   ]
  },
  {
   "cell_type": "code",
   "execution_count": 7,
   "metadata": {},
   "outputs": [
    {
     "name": "stdout",
     "output_type": "stream",
     "text": "(5.000000592526042, -3.2941349733042746e-06, 88908022788.50623)\n88.40487794025441\n"
    }
   ],
   "source": [
    "order=39\n",
    "te.con.set_M_p(m[order],2e+8)\n",
    "print(te.cal_ML_simple_B(ST[order],L_s[order],True,0.0,dgr[order]))\n",
    "print(te.cal_ML_simple_B(ST[order],L_s[order],True,0.0,dgr[order])[-1]/(te.r[-1]*te.con.R_B))"
   ]
  },
  {
   "cell_type": "code",
   "execution_count": null,
   "metadata": {},
   "outputs": [],
   "source": [
    "156.00707907731467"
   ]
  }
 ]
}