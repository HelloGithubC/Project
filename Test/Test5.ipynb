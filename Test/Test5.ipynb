{
 "nbformat": 4,
 "nbformat_minor": 2,
 "metadata": {
  "language_info": {
   "name": "python",
   "codemirror_mode": {
    "name": "ipython",
    "version": 3
   },
   "version": "3.7.4-final"
  },
  "orig_nbformat": 2,
  "file_extension": ".py",
  "mimetype": "text/x-python",
  "name": "python",
  "npconvert_exporter": "python",
  "pygments_lexer": "ipython3",
  "version": 3,
  "kernelspec": {
   "name": "python37464bitminiconda3virtualenv47ef9e86a2d84e40a9c23e8715ac80e5",
   "display_name": "Python 3.7.4 64-bit ('miniconda3': virtualenv)"
  }
 },
 "cells": [
  {
   "cell_type": "code",
   "execution_count": 1,
   "metadata": {},
   "outputs": [],
   "source": [
    "import numpy as np \n",
    "import matplotlib.pyplot as plt \n",
    "from calculator import Methods,Calculator\n",
    "from const import Const\n",
    "from test1 import Test"
   ]
  },
  {
   "cell_type": "code",
   "execution_count": 2,
   "metadata": {},
   "outputs": [],
   "source": [
    "cal=Calculator()\n",
    "cal.read_excel('../Data/无磁场/Data-M_c=8.xlsx','Data-M_c=8')\n",
    "te=Test(0.3,8)"
   ]
  },
  {
   "cell_type": "code",
   "execution_count": 9,
   "metadata": {},
   "outputs": [],
   "source": [
    "#f=open('../Data/固定g_in/进一步寻找关系/store-2e+8-1.4e+6.csv')\n",
    "f=open('store-1e+6.csv','r')\n",
    "L_s=np.ones(200)\n",
    "ST=np.ones(200)\n",
    "m=np.ones(200)\n",
    "P=np.ones(200)\n",
    "dgr=np.ones(200)\n",
    "order=0\n",
    "for line in f:\n",
    "    x=line.split(',')\n",
    "    if x[0]=='order':\n",
    "        continue\n",
    "    for i in range(7):\n",
    "        x[i]=float(x[i])\n",
    "    L_s[order],ST[order],m[order],dgr[order]=x[3:7]\n",
    "    P[order]=x[1]\n",
    "    order+=1\n",
    "f.close()"
   ]
  },
  {
   "cell_type": "code",
   "execution_count": 6,
   "metadata": {},
   "outputs": [
    {
     "data": {
      "text/plain": "[199.0,\n 75857614.97,\n 34.80663339,\n 1.639803254,\n 1.02e-07,\n 12.0,\n -590.135712,\n '',\n '0.000707973',\n '-0.002192491',\n '-0.007726817',\n '5.51441171\\n']"
     },
     "execution_count": 6,
     "metadata": {},
     "output_type": "execute_result"
    }
   ],
   "source": [
    "x"
   ]
  },
  {
   "cell_type": "code",
   "execution_count": 5,
   "metadata": {},
   "outputs": [
    {
     "name": "stdout",
     "output_type": "stream",
     "text": "(8.000001447552947, -0.22231636583099487, 45865160884.461205)\n38.99224168653943\n"
    }
   ],
   "source": [
    "order=151\n",
    "te.con.set_M_p(m[order],2e+8)\n",
    "print(te.cal_ML_simple_B(ST[order],L_s[order],True,0.0,dgr[order]))\n",
    "print(te.cal_ML_simple_B(ST[order],L_s[order],True,0.0,dgr[order])[-1]/(te.r[-1]*te.con.R_B))"
   ]
  },
  {
   "cell_type": "code",
   "execution_count": 12,
   "metadata": {},
   "outputs": [
    {
     "data": {
      "text/plain": "False"
     },
     "execution_count": 12,
     "metadata": {},
     "output_type": "execute_result"
    }
   ],
   "source": [
    "P[23] is np.nan"
   ]
  },
  {
   "cell_type": "code",
   "execution_count": null,
   "metadata": {},
   "outputs": [],
   "source": []
  }
 ]
}