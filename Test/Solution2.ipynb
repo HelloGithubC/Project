{
 "nbformat": 4,
 "nbformat_minor": 2,
 "metadata": {
  "language_info": {
   "name": "python",
   "codemirror_mode": {
    "name": "ipython",
    "version": 3
   },
   "version": "3.7.5-final"
  },
  "orig_nbformat": 2,
  "file_extension": ".py",
  "mimetype": "text/x-python",
  "name": "python",
  "npconvert_exporter": "python",
  "pygments_lexer": "ipython3",
  "version": 3,
  "kernelspec": {
   "name": "python37564bitabdc00183e884df68fc045991efada82",
   "display_name": "Python 3.7.5 64-bit"
  }
 },
 "cells": [
  {
   "cell_type": "code",
   "execution_count": 1,
   "metadata": {},
   "outputs": [],
   "source": [
    "import numpy as np \n",
    "import matplotlib.pyplot as plt \n",
    "from calculator import Methods,Calculator\n",
    "from const import Const\n",
    "from test1 import Test"
   ]
  },
  {
   "cell_type": "code",
   "execution_count": 2,
   "metadata": {},
   "outputs": [],
   "source": [
    "cal=Calculator()\n",
    "cal.read_excel('Data2.xlsx')\n",
    "te=Test()"
   ]
  },
  {
   "cell_type": "code",
   "execution_count": 3,
   "metadata": {},
   "outputs": [],
   "source": [
    "dgr='-3.0e+3'\n",
    "filename=\"../Data/store-8e+6.csv\"\n",
    "dgr=float(dgr)\n",
    "f=open(filename,\"r\")\n",
    "values=[]\n",
    "for line in f:\n",
    "    values.append(line.split(',')[-1])\n",
    "values.remove(values[0])\n",
    "for i in range(len(values)):\n",
    "    values[i]=float(values[i])\n",
    "f.close()"
   ]
  },
  {
   "cell_type": "code",
   "execution_count": 4,
   "metadata": {},
   "outputs": [
    {
     "name": "stdout",
     "output_type": "stream",
     "text": "0 is done.\n1 is done.\n2 is done.\n3 is done.\n4 is done.\n5 is done.\n6 is done.\n7 is done.\n8 is done.\n9 is done.\n10 is done.\n11 is done.\n12 is done.\n13 is done.\n14 is done.\n15 is done.\n16 is done.\n17 is done.\n18 is done.\n19 is done.\n20 is done.\n21 is done.\n22 is done.\n23 is done.\n24 is done.\n25 is done.\n26 is done.\n27 is done.\n28 is done.\n29 is done.\n30 is done.\n31 is done.\n32 is done.\n33 is done.\n34 is done.\n35 is done.\n36 is done.\n37 is done.\n38 is done.\n39 is done.\n40 is done.\n41 is done.\n42 is done.\n43 is done.\n44 is done.\n45 is done.\n46 is done.\n47 is done.\n48 is done.\n49 is done.\n50 is done.\n51 is done.\n52 is done.\n53 is done.\n54 is done.\n55 is done.\n56 is done.\n57 is done.\n58 is done.\n59 is done.\n60 is done.\n61 is done.\n62 is done.\n63 is done.\n64 is done.\n65 is done.\n66 is done.\n67 is done.\n68 is done.\n69 is done.\n70 is done.\n71 is done.\n72 is done.\n73 is done.\n74 is done.\n75 is done.\n76 is done.\n77 is done.\n78 is done.\n79 is done.\n80 is done.\n81 is done.\n82 is done.\n83 is done.\n84 is done.\n85 is done.\n86 is done.\n87 is done.\n88 is done.\n89 is done.\n90 is done.\n91 is done.\n92 is done.\n93 is done.\n94 is done.\n95 is done.\n96 is done.\n97 is done.\n98 is done.\n99 is done.\n100 is done.\n101 is done.\n102 is done.\n103 is done.\n104 is done.\n105 is done.\n106 is done.\n107 is done.\n108 is done.\n109 is done.\n110 is done.\n111 is done.\n112 is done.\n113 is done.\n114 is done.\n115 is done.\n116 is done.\n117 is done.\n118 is done.\n119 is done.\n120 is done.\n121 is done.\n122 is done.\n123 is done.\n124 is done.\n125 is done.\n126 is done.\n127 is done.\n128 is done.\n129 is done.\n130 is done.\n131 is done.\n132 is done.\n133 is done.\n134 is done.\n135 is done.\n136 is done.\n137 is done.\n138 is done.\n139 is done.\n140 is done.\n141 is done.\n142 is done.\n143 is done.\n144 is done.\n145 is done.\n146 is done.\n147 is done.\n148 is done.\n149 is done.\n150 is done.\n151 is done.\n152 is done.\n153 is done.\n154 is done.\n155 is done.\n156 is done.\n157 is done.\n158 is done.\n159 is done.\n160 is done.\n161 is done.\n162 is done.\n163 is done.\n164 is done.\n165 is done.\n166 is done.\n167 is done.\n168 is done.\n169 is done.\n170 is done.\n171 is done.\n172 is done.\n173 is done.\n174 is done.\n175 is done.\n176 is done.\n177 is done.\n178 is done.\n179 is done.\n180 is done.\n181 is done.\n182 is done.\n183 is done.\n184 is done.\n185 is done.\n186 is done.\n187 is done.\n188 is done.\n189 is done.\n190 is done.\n191 is done.\n192 is done.\n193 is done.\n194 is done.\n195 is done.\n196 is done.\n197 is done.\n198 is done.\n199 is done.\n"
    }
   ],
   "source": [
    "result=np.ones((len(values),3))\n",
    "for order in range(len(values)):\n",
    "    m=cal.M_p[order]\n",
    "    ST=values[order]\n",
    "    L_s=cal.L_init[order]\n",
    "    te.con.set_M_p(m,8e+6)\n",
    "    result[order]=te.cal_ML_simple_B(ST,L_s,True,0.0,dgr)\n",
    "    result[order][-1]/=(te.r[-1]*te.con.R_B)\n",
    "    print(\"{0} is done.\".format(order))"
   ]
  },
  {
   "cell_type": "code",
   "execution_count": 5,
   "metadata": {},
   "outputs": [],
   "source": [
    "with open('store-all.csv','a') as f:\n",
    "    f.write('\\n\\norder,M_in,L_in,g_in,M_v={0:.1e},dg/dr={1:.1e}\\n'.format(8e+6,dgr))\n",
    "    for order in range(len(result)):\n",
    "        f.write('{0},{1},{2},{3}\\n'.format(order,result[order][0],result[order][1],result[order][2]))"
   ]
  },
  {
   "cell_type": "code",
   "execution_count": 17,
   "metadata": {},
   "outputs": [
    {
     "data": {
      "text/plain": "0.005854214301434249"
     },
     "execution_count": 17,
     "metadata": {},
     "output_type": "execute_result"
    }
   ],
   "source": [
    "result[-1][-2]"
   ]
  },
  {
   "cell_type": "code",
   "execution_count": 66,
   "metadata": {},
   "outputs": [
    {
     "name": "stdout",
     "output_type": "stream",
     "text": "19 is done.\n[[8.59044085e+183 3.09464628e+169 3.60411674e+219]]\n"
    }
   ],
   "source": [
    "order=19\n",
    "m=cal.M_p[order]\n",
    "ST=values[order]\n",
    "L_s=cal.L_init[order]\n",
    "te.con.set_M_p(m,M_v)\n",
    "x=np.ones((1,3))\n",
    "x[0]=te.cal_ML_simple_B(2.28451298e+06,L_s,True,0.0,-3e+3)\n",
    "x[0,-1]/=(te.r[-1]*te.con.R_B)\n",
    "print(\"{0} is done.\".format(order))\n",
    "print(x)"
   ]
  },
  {
   "cell_type": "code",
   "execution_count": 63,
   "metadata": {},
   "outputs": [
    {
     "name": "stdout",
     "output_type": "stream",
     "text": "2.2845129221537127e-06\n18.4802961340933\n"
    }
   ],
   "source": [
    "print(ST)\n",
    "print(\"%.15g\"%(x[0,-1]))"
   ]
  },
  {
   "cell_type": "code",
   "execution_count": null,
   "metadata": {},
   "outputs": [],
   "source": []
  }
 ]
}