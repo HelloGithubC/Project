{
 "nbformat": 4,
 "nbformat_minor": 2,
 "metadata": {
  "language_info": {
   "name": "python",
   "codemirror_mode": {
    "name": "ipython",
    "version": 3
   },
   "version": "3.7.4-final"
  },
  "orig_nbformat": 2,
  "file_extension": ".py",
  "mimetype": "text/x-python",
  "name": "python",
  "npconvert_exporter": "python",
  "pygments_lexer": "ipython3",
  "version": 3,
  "kernelspec": {
   "name": "python37464bitbasecondaf61c0d8dce2242d385362b80b8102780",
   "display_name": "Python 3.7.4 64-bit ('base': conda)"
  }
 },
 "cells": [
  {
   "cell_type": "code",
   "execution_count": 1,
   "metadata": {},
   "outputs": [],
   "source": [
    "import numpy as np \n",
    "import matplotlib.pyplot as plt \n",
    "from calculator import Methods,Calculator\n",
    "from const import Const\n",
    "from test1 import Test"
   ]
  },
  {
   "cell_type": "code",
   "execution_count": 2,
   "metadata": {},
   "outputs": [],
   "source": [
    "cal=Calculator()\n",
    "cal.read_excel('Data2.xlsx')\n",
    "te=Test()"
   ]
  },
  {
   "cell_type": "code",
   "execution_count": 3,
   "metadata": {},
   "outputs": [],
   "source": [
    "dgr='-3.0e+3'\n",
    "filename=\"../Data/store-1e+6.csv\"\n",
    "dgr=float(dgr)\n",
    "f=open(filename,\"r\")\n",
    "values=[]\n",
    "for line in f:\n",
    "    values.append(line.split(',')[-1])\n",
    "values.remove(values[0])\n",
    "for i in range(len(values)):\n",
    "    values[i]=float(values[i])\n",
    "f.close()"
   ]
  },
  {
   "cell_type": "code",
   "execution_count": 5,
   "metadata": {},
   "outputs": [
    {
     "name": "stdout",
     "output_type": "stream",
     "text": "0 is done.\n1 is done.\n"
    }
   ],
   "source": [
    "result=np.ones((len(values),3))\n",
    "for order in range(len(values)):\n",
    "    m=cal.M_p[order]\n",
    "    ST=values[order]\n",
    "    L_s=cal.L_init[order]\n",
    "    te.con.set_M_p(m,1e+6)\n",
    "    result[order]=te.cal_ML_simple_B(ST,L_s,True,0.0,dgr)\n",
    "    result[order][-1]/=(te.r[-1]*te.con.R_B)\n",
    "    print(\"{0} is done.\".format(order))\n",
    "    if order>0:\n",
    "        break"
   ]
  },
  {
   "cell_type": "code",
   "execution_count": 7,
   "metadata": {},
   "outputs": [],
   "source": [
    "with open('store-all.csv','w') as f:\n",
    "    f.write('\\n\\norder,M_in,L_in,g_in,M_v={0:.1e},dg/dr={1:.1e}\\n'.format(8e+6,dgr))\n",
    "    for order in range(len(result)):\n",
    "        f.write('{0},{1},{2},{3}\\n'.format(order,result[order][0],result[order][1],result[order][2]))"
   ]
  },
  {
   "cell_type": "code",
   "execution_count": 17,
   "metadata": {},
   "outputs": [
    {
     "data": {
      "text/plain": "0.005854214301434249"
     },
     "execution_count": 17,
     "metadata": {},
     "output_type": "execute_result"
    }
   ],
   "source": [
    "result[-1][-2]"
   ]
  },
  {
   "cell_type": "code",
   "execution_count": 66,
   "metadata": {},
   "outputs": [
    {
     "name": "stdout",
     "output_type": "stream",
     "text": "19 is done.\n[[8.59044085e+183 3.09464628e+169 3.60411674e+219]]\n"
    }
   ],
   "source": [
    "order=19\n",
    "m=cal.M_p[order]\n",
    "ST=values[order]\n",
    "L_s=cal.L_init[order]\n",
    "te.con.set_M_p(m,M_v)\n",
    "x=np.ones((1,3))\n",
    "x[0]=te.cal_ML_simple_B(2.28451298e+06,L_s,True,0.0,-3e+3)\n",
    "x[0,-1]/=(te.r[-1]*te.con.R_B)\n",
    "print(\"{0} is done.\".format(order))\n",
    "print(x)"
   ]
  },
  {
   "cell_type": "code",
   "execution_count": 63,
   "metadata": {},
   "outputs": [
    {
     "name": "stdout",
     "output_type": "stream",
     "text": "2.2845129221537127e-06\n18.4802961340933\n"
    }
   ],
   "source": [
    "print(ST)\n",
    "print(\"%.15g\"%(x[0,-1]))"
   ]
  },
  {
   "cell_type": "code",
   "execution_count": null,
   "metadata": {},
   "outputs": [],
   "source": []
  }
 ]
}