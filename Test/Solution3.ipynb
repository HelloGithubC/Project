{
 "nbformat": 4,
 "nbformat_minor": 2,
 "metadata": {
  "language_info": {
   "name": "python",
   "codemirror_mode": {
    "name": "ipython",
    "version": 3
   },
   "version": "3.7.5-final"
  },
  "orig_nbformat": 2,
  "file_extension": ".py",
  "mimetype": "text/x-python",
  "name": "python",
  "npconvert_exporter": "python",
  "pygments_lexer": "ipython3",
  "version": 3,
  "kernelspec": {
   "name": "python37564bitvscodecondada92064a75304cd398736fb830a4c543",
   "display_name": "Python 3.7.5 64-bit ('vscode': conda)"
  }
 },
 "cells": [
  {
   "cell_type": "code",
   "execution_count": 1,
   "metadata": {},
   "outputs": [],
   "source": [
    "import numpy as np \n",
    "import matplotlib.pyplot as plt \n",
    "from calculator import Methods,Calculator\n",
    "from const import Const\n",
    "from test1 import Test"
   ]
  },
  {
   "cell_type": "code",
   "execution_count": 2,
   "metadata": {},
   "outputs": [],
   "source": [
    "cal=Calculator()\n",
    "cal.read_excel('Data2.xlsx')\n",
    "te=Test()"
   ]
  },
  {
   "cell_type": "code",
   "execution_count": 3,
   "metadata": {},
   "outputs": [
    {
     "data": {
      "text/plain": "\"filename='../Data/store-3.3e+3.csv'\\nf=open(filename,'r')\\nvalues=[]\\nfor line in f:\\n    values.append(line.split(','))\\nf.close()\""
     },
     "execution_count": 3,
     "metadata": {},
     "output_type": "execute_result"
    }
   ],
   "source": [
    "# M_v=8e+6，固定第一个的内边界g/r的值，然后求出新的ST\n",
    "# 先取出第一个内边界的g/r值\n",
    "filename='store-all.csv'\n",
    "f=open(filename,'r')\n",
    "values=[]\n",
    "for line in f:\n",
    "    values.append(line.split(','))\n",
    "g_in=float(values[1][-1])\n",
    "f.close()\n",
    "\n",
    "#再取出用作参考的ST的数据，后面用order索引\n",
    "\"\"\"filename='../Data/store-3.3e+3.csv'\n",
    "f=open(filename,'r')\n",
    "values=[]\n",
    "for line in f:\n",
    "    values.append(line.split(','))\n",
    "f.close()\"\"\""
   ]
  },
  {
   "cell_type": "code",
   "execution_count": 4,
   "metadata": {},
   "outputs": [
    {
     "name": "stdout",
     "output_type": "stream",
     "text": "0 has been done.\n1 has been done.\n2 has been done.\n/home/xiaoliang/miniconda3/envs/vscode/lib/python3.7/site-packages/scipy/integrate/odepack.py:247: ODEintWarning: Excess work done on this call (perhaps wrong Dfun type). Run with full_output = 1 to get quantitative information.\n  warnings.warn(warning_msg, ODEintWarning)\n/home/xiaoliang/miniconda3/envs/vscode/lib/python3.7/site-packages/ipykernel_launcher.py:42: RuntimeWarning: divide by zero encountered in double_scalars\n/home/xiaoliang/miniconda3/envs/vscode/lib/python3.7/site-packages/scipy/integrate/odepack.py:247: ODEintWarning: Illegal input detected (internal error). Run with full_output = 1 to get quantitative information.\n  warnings.warn(warning_msg, ODEintWarning)\n/home/xiaoliang/Project/Test/test1.py:56: RuntimeWarning: overflow encountered in power\n  judge=(cls.con.c_T*1e24*abs(L)*P**(cls.con.alpha+1)*T**(cls.con.beta-4)/M)<(np.ones(len(L))*cls.con.g_ad)\n/home/xiaoliang/Project/Test/test1.py:56: RuntimeWarning: invalid value encountered in multiply\n  judge=(cls.con.c_T*1e24*abs(L)*P**(cls.con.alpha+1)*T**(cls.con.beta-4)/M)<(np.ones(len(L))*cls.con.g_ad)\n/home/xiaoliang/Project/Test/test1.py:56: RuntimeWarning: invalid value encountered in less\n  judge=(cls.con.c_T*1e24*abs(L)*P**(cls.con.alpha+1)*T**(cls.con.beta-4)/M)<(np.ones(len(L))*cls.con.g_ad)\n/home/xiaoliang/miniconda3/envs/vscode/lib/python3.7/site-packages/ipykernel_launcher.py:41: RuntimeWarning: invalid value encountered in double_scalars\n3 has been done.\n4 has been done.\n5 has been done.\n6 has been done.\n7 has been done.\n8 has been done.\n9 has been done.\n10 has been done.\n11 has been done.\n12 has been done.\n13 has been done.\n14 has been done.\n15 has been done.\n16 has been done.\n17 has been done.\n18 has been done.\n19 has been done.\n20 has been done.\n21 has been done.\n22 has been done.\n23 has been done.\n24 has been done.\n25 has been done.\n26 has been done.\n27 has been done.\n28 has been done.\n29 has been done.\n30 has been done.\n31 has been done.\n32 has been done.\n33 has been done.\n34 has been done.\n35 has been done.\n36 has been done.\n37 has been done.\n38 has been done.\n39 has been done.\n40 has been done.\n41 has been done.\n42 has been done.\n43 has been done.\n44 has been done.\n45 has been done.\n46 has been done.\n47 has been done.\n48 has been done.\n49 has been done.\n50 has been done.\n51 has been done.\n52 has been done.\n53 has been done.\n54 has been done.\n55 has been done.\n56 has been done.\n57 has been done.\n58 has been done.\n59 has been done.\n60 has been done.\n61 has been done.\n62 has been done.\n63 has been done.\n64 has been done.\n65 has been done.\n66 has been done.\n67 has been done.\n68 has been done.\n69 has been done.\n70 has been done.\n71 has been done.\n72 has been done.\n73 has been done.\n74 has been done.\n75 has been done.\n76 has been done.\n77 has been done.\n78 has been done.\n79 has been done.\n80 has been done.\n81 has been done.\n82 has been done.\n83 has been done.\n84 has been done.\n85 has been done.\n86 has been done.\n87 has been done.\n88 has been done.\n89 has been done.\n90 has been done.\n91 has been done.\n92 has been done.\n93 has been done.\n94 has been done.\n95 has been done.\n96 has been done.\n97 has been done.\n98 has been done.\n99 has been done.\n100 has been done.\n101 has been done.\n102 has been done.\n103 has been done.\n104 has been done.\n105 has been done.\n106 has been done.\n107 has been done.\n108 has been done.\n109 has been done.\n110 has been done.\n111 has been done.\n112 has been done.\n113 has been done.\n114 has been done.\n115 has been done.\n116 has been done.\n117 has been done.\n118 has been done.\n119 has been done.\n120 has been done.\n121 has been done.\n122 has been done.\n123 has been done.\n124 has been done.\n125 has been done.\n126 has been done.\n127 has been done.\n128 has been done.\n129 has been done.\n130 has been done.\n131 has been done.\n132 has been done.\n133 has been done.\n134 has been done.\n135 has been done.\n136 has been done.\n137 has been done.\n138 has been done.\n139 has been done.\n140 has been done.\n141 has been done.\n142 has been done.\n143 has been done.\n144 has been done.\n145 has been done.\n146 has been done.\n147 has been done.\n148 has been done.\n149 has been done.\n150 has been done.\n151 has been done.\n152 has been done.\n153 has been done.\n154 has been done.\n155 has been done.\n156 has been done.\n157 has been done.\n158 has been done.\n159 has been done.\n160 has been done.\n161 has been done.\n162 has been done.\n163 has been done.\n164 has been done.\n165 has been done.\n166 has been done.\n167 has been done.\n168 has been done.\n169 has been done.\n170 has been done.\n171 has been done.\n172 has been done.\n173 has been done.\n174 has been done.\n175 has been done.\n176 has been done.\n177 has been done.\n178 has been done.\n179 has been done.\n180 has been done.\n181 has been done.\n182 has been done.\n183 has been done.\n184 has been done.\n185 has been done.\n186 has been done.\n187 has been done.\n188 has been done.\n189 has been done.\n190 has been done.\n191 has been done.\n192 has been done.\n193 has been done.\n194 has been done.\n195 has been done.\n196 has been done.\n197 has been done.\n198 has been done.\n199 has been done.\n"
    }
   ],
   "source": [
    "result=np.ones((len(cal.M_p),6))\n",
    "maxtime=20\n",
    "for order in range(len(cal.M_p)):\n",
    "    m=cal.M_p[order]\n",
    "    L_s=cal.L_init[order]\n",
    "    ST=cal.ST[order]\n",
    "    te.con.set_M_p(m,8e+6)\n",
    "    x_start=-3.0e+4\n",
    "    x_step1,x_step2=0.5e+3,0.1e+3\n",
    "    error=1e-6\n",
    "    y_start=te.cal_ML_simple_B(ST,L_s,True,0.0,x_start)[-1]/(te.r[-1]*te.con.R_B)\n",
    "    y_target=g_in\n",
    "    y1=y_start\n",
    "    x1=x_start\n",
    "    i=1\n",
    "    while abs(y1-y_target)>error:\n",
    "        if i>1:\n",
    "            x2=x1+x_step2\n",
    "        else:\n",
    "            x2=x1+x_step1\n",
    "        y2=te.cal_ML_simple_B(ST,L_s,True,0.0,x2)[-1]/(te.r[-1]*te.con.R_B)\n",
    "        grad=(y2-y1)/(x2-x1)\n",
    "        x1=(y_target-y2)/grad+x2 \n",
    "        y1=te.cal_ML_simple_B(ST,L_s,True,0.0,x1)[-1]/(te.r[-1]*te.con.R_B)\n",
    "        i+=1\n",
    "        if i>maxtime:\n",
    "            print('come out.')\n",
    "            break\n",
    "    dgr=x1\n",
    "    x_start=ST \n",
    "    x_step=ST/10\n",
    "    error=1e-5\n",
    "    y_start=te.cal_ML_simple_B(x_start,L_s,True,0.0,dgr)[-2]\n",
    "    y_target=0.0\n",
    "    y1=y_start\n",
    "    x1=x_start\n",
    "    i=1\n",
    "    while abs(y1-y_target)>error:\n",
    "        x2=x1+x_step\n",
    "        y2=te.cal_ML_simple_B(x2,L_s,True,0.0,dgr)[-2]\n",
    "        grad=(y2-y1)/(x2-x1)\n",
    "        x1=(y_target-y2)/grad+x2 \n",
    "        y1=te.cal_ML_simple_B(x1,L_s,True,0.0,dgr)[-2]\n",
    "        i+=1\n",
    "        if i>maxtime:\n",
    "            print('come out.')\n",
    "            break\n",
    "    ST=x1\n",
    "    te.cal_ML_simple_B(ST,L_s,True,0.0,dgr)\n",
    "    result[order]=[te.P[-1],te.T[-1],te.L[0],ST,m,dgr]\n",
    "    print('{0} has been done.'.format(order))"
   ]
  },
  {
   "cell_type": "code",
   "execution_count": 1,
   "metadata": {},
   "outputs": [
    {
     "ename": "NameError",
     "evalue": "name 'result' is not defined",
     "output_type": "error",
     "traceback": [
      "\u001b[0;31m---------------------------------------------------------------------------\u001b[0m",
      "\u001b[0;31mNameError\u001b[0m                                 Traceback (most recent call last)",
      "\u001b[0;32m<ipython-input-1-0ac921c19f1a>\u001b[0m in \u001b[0;36m<module>\u001b[0;34m\u001b[0m\n\u001b[0;32m----> 1\u001b[0;31m \u001b[0mresult\u001b[0m\u001b[0;34m\u001b[0m\u001b[0;34m\u001b[0m\u001b[0m\n\u001b[0m",
      "\u001b[0;31mNameError\u001b[0m: name 'result' is not defined"
     ]
    }
   ],
   "source": [
    "result"
   ]
  },
  {
   "cell_type": "code",
   "execution_count": 5,
   "metadata": {},
   "outputs": [],
   "source": [
    "f=open('store-ST-dgr.csv','w')\n",
    "f.write('order,P,T,L,ST,m,dgr,M_v=8e+6\\n')\n",
    "for order in range(len(result)):\n",
    "    f.write('{0},{1},{2},{3},{4},{5},{6}\\n'.format(order,result[order][0],result[order][1],result[order][2],result[order][3],result[order][4],result[order][5]))\n",
    "f.close()"
   ]
  },
  {
   "cell_type": "code",
   "execution_count": 7,
   "metadata": {},
   "outputs": [
    {
     "data": {
      "text/plain": "array([ 8.08804232e+05,  3.12841718e+01,  3.52440268e+03,  2.34526138e-02,\n        5.15000000e+00, -3.00000000e+03])"
     },
     "execution_count": 7,
     "metadata": {},
     "output_type": "execute_result"
    }
   ],
   "source": [
    "result[0]"
   ]
  },
  {
   "cell_type": "code",
   "execution_count": 8,
   "metadata": {},
   "outputs": [
    {
     "data": {
      "text/plain": "0.15602485393910218"
     },
     "execution_count": 8,
     "metadata": {},
     "output_type": "execute_result"
    }
   ],
   "source": [
    "g_in"
   ]
  },
  {
   "cell_type": "code",
   "execution_count": null,
   "metadata": {},
   "outputs": [],
   "source": []
  }
 ]
}