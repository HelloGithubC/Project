{
 "nbformat": 4,
 "nbformat_minor": 2,
 "metadata": {
  "language_info": {
   "name": "python",
   "codemirror_mode": {
    "name": "ipython",
    "version": 3
   },
   "version": "3.7.5"
  },
  "orig_nbformat": 2,
  "file_extension": ".py",
  "mimetype": "text/x-python",
  "name": "python",
  "npconvert_exporter": "python",
  "pygments_lexer": "ipython3",
  "version": 3
 },
 "cells": [
  {
   "cell_type": "code",
   "execution_count": null,
   "metadata": {},
   "outputs": [
    {
     "evalue": "Error: Failed to connect to Jupyter notebook. \r\nhttp://localhost:8888/\r\nError: Invalid response: 403 Forbidden",
     "output_type": "error"
    }
   ],
   "source": [
    "import numpy as np \n",
    "import matplotlib.pyplot as plt \n",
    "from calculator import Methods,Calculator\n",
    "from const import Const\n",
    "from test1 import Test"
   ]
  },
  {
   "cell_type": "code",
   "execution_count": 2,
   "metadata": {},
   "outputs": [],
   "source": [
    "cal=Calculator()\n",
    "cal.read_excel('Data2.xlsx')\n",
    "order=39\n",
    "m=cal.M_p[order]\n",
    "ST=cal.ST[order]\n",
    "L_s=cal.L_init[order]"
   ]
  },
  {
   "cell_type": "code",
   "execution_count": 4,
   "metadata": {},
   "outputs": [
    {
     "data": {
      "text/plain": "(4.38174494319298e-07, 6.82034968450476e-07)"
     },
     "execution_count": 4,
     "metadata": {},
     "output_type": "execute_result"
    }
   ],
   "source": [
    "te=Test()\n",
    "te.con.set_M_p(m)\n",
    "te.find_L_simple(0.0,[ST,L_s],1e-5,1e-6)"
   ]
  },
  {
   "cell_type": "code",
   "execution_count": null,
   "metadata": {},
   "outputs": [],
   "source": []
  }
 ]
}